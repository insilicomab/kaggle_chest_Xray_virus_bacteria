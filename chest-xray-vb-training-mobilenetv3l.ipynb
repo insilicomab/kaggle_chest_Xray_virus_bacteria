{
 "cells": [
  {
   "cell_type": "markdown",
   "id": "da5f2f06",
   "metadata": {
    "papermill": {
     "duration": 0.027344,
     "end_time": "2022-04-16T14:25:30.007627",
     "exception": false,
     "start_time": "2022-04-16T14:25:29.980283",
     "status": "completed"
    },
    "tags": []
   },
   "source": [
    "# 事前準備"
   ]
  },
  {
   "cell_type": "code",
   "execution_count": 1,
   "id": "7f389a37",
   "metadata": {
    "execution": {
     "iopub.execute_input": "2022-04-16T14:25:30.063364Z",
     "iopub.status.busy": "2022-04-16T14:25:30.062929Z",
     "iopub.status.idle": "2022-04-16T14:25:32.450711Z",
     "shell.execute_reply": "2022-04-16T14:25:32.449951Z"
    },
    "papermill": {
     "duration": 2.41871,
     "end_time": "2022-04-16T14:25:32.453098",
     "exception": false,
     "start_time": "2022-04-16T14:25:30.034388",
     "status": "completed"
    },
    "tags": []
   },
   "outputs": [],
   "source": [
    "# ライブラリのインポート\n",
    "import os\n",
    "import random\n",
    "from glob import glob\n",
    "import re\n",
    "from warnings import filterwarnings\n",
    "\n",
    "import argparse\n",
    "\n",
    "import pandas as pd\n",
    "import numpy as np\n",
    "import matplotlib.pyplot as plt\n",
    "\n",
    "from sklearn.model_selection import train_test_split\n",
    "\n",
    "import cv2\n",
    "from PIL import Image\n",
    "\n",
    "import torch\n",
    "from torchvision import datasets, transforms, models\n",
    "from torch.utils.data import Dataset, DataLoader\n",
    "from torch import nn, optim\n",
    "\n",
    "from collections import defaultdict\n",
    "\n",
    "filterwarnings('ignore') "
   ]
  },
  {
   "cell_type": "code",
   "execution_count": 2,
   "id": "40926c36",
   "metadata": {
    "execution": {
     "iopub.execute_input": "2022-04-16T14:25:32.544151Z",
     "iopub.status.busy": "2022-04-16T14:25:32.543886Z",
     "iopub.status.idle": "2022-04-16T14:25:32.550612Z",
     "shell.execute_reply": "2022-04-16T14:25:32.549898Z"
    },
    "papermill": {
     "duration": 0.062673,
     "end_time": "2022-04-16T14:25:32.552456",
     "exception": false,
     "start_time": "2022-04-16T14:25:32.489783",
     "status": "completed"
    },
    "tags": []
   },
   "outputs": [],
   "source": [
    "# ランダムシードの設定\n",
    "torch.manual_seed(1234)\n",
    "torch.cuda.manual_seed(1234)\n",
    "np.random.seed(1234)\n",
    "random.seed(1234)"
   ]
  },
  {
   "cell_type": "code",
   "execution_count": 3,
   "id": "fb80bb4a",
   "metadata": {
    "execution": {
     "iopub.execute_input": "2022-04-16T14:25:32.610141Z",
     "iopub.status.busy": "2022-04-16T14:25:32.609506Z",
     "iopub.status.idle": "2022-04-16T14:25:32.664350Z",
     "shell.execute_reply": "2022-04-16T14:25:32.663605Z"
    },
    "papermill": {
     "duration": 0.085672,
     "end_time": "2022-04-16T14:25:32.666627",
     "exception": false,
     "start_time": "2022-04-16T14:25:32.580955",
     "status": "completed"
    },
    "tags": []
   },
   "outputs": [
    {
     "name": "stdout",
     "output_type": "stream",
     "text": [
      "デバイス：cuda\n"
     ]
    }
   ],
   "source": [
    "# デバイスの設定\n",
    "device = 'cuda' if torch.cuda.is_available() else 'cpu'\n",
    "kwargs = {'num_workers': 1, 'pin_memory': True} if torch.cuda.is_available() else {} # GPUが使える場合、DataLoaderでのミニバッチの取り出しを高速化\n",
    "print(f'デバイス：{device}')"
   ]
  },
  {
   "cell_type": "code",
   "execution_count": 4,
   "id": "aeae94bd",
   "metadata": {
    "execution": {
     "iopub.execute_input": "2022-04-16T14:25:32.726592Z",
     "iopub.status.busy": "2022-04-16T14:25:32.725999Z",
     "iopub.status.idle": "2022-04-16T14:25:32.730229Z",
     "shell.execute_reply": "2022-04-16T14:25:32.729511Z"
    },
    "papermill": {
     "duration": 0.035491,
     "end_time": "2022-04-16T14:25:32.731950",
     "exception": false,
     "start_time": "2022-04-16T14:25:32.696459",
     "status": "completed"
    },
    "tags": []
   },
   "outputs": [],
   "source": [
    "# 学習済み\n",
    "use_pretrained = True\n",
    "\n",
    "# PNEUMONIAのtrainデータのディレクトリ\n",
    "img_dir = '../input/chest-xray-pneumonia/chest_xray/train/PNEUMONIA/'\n",
    "\n",
    "# Model name\n",
    "model_name = 'mobilenet_v3_large_virus_bacteria'"
   ]
  },
  {
   "cell_type": "code",
   "execution_count": 5,
   "id": "312d85cf",
   "metadata": {
    "execution": {
     "iopub.execute_input": "2022-04-16T14:25:32.788759Z",
     "iopub.status.busy": "2022-04-16T14:25:32.787297Z",
     "iopub.status.idle": "2022-04-16T14:25:32.798661Z",
     "shell.execute_reply": "2022-04-16T14:25:32.797565Z"
    },
    "papermill": {
     "duration": 0.040928,
     "end_time": "2022-04-16T14:25:32.800364",
     "exception": false,
     "start_time": "2022-04-16T14:25:32.759436",
     "status": "completed"
    },
    "tags": []
   },
   "outputs": [
    {
     "name": "stdout",
     "output_type": "stream",
     "text": [
      "Namespace(batch_size=16, epochs=100, factor=0.5, image_size=224, lr=0.0001, lr_patience=5, mode='max', num_classes=2, patience=20, test_size=0.25, threshold=1e-05)\n"
     ]
    }
   ],
   "source": [
    "# ハイパーパラメータの設定\n",
    "parser = argparse.ArgumentParser()\n",
    "parser.add_argument('--test_size', type=float, default=0.25)\n",
    "parser.add_argument('--image_size', type=int, default=224)\n",
    "parser.add_argument('--num_classes', type=int, default=2)\n",
    "parser.add_argument('--epochs', type=int, default=100)\n",
    "parser.add_argument('--batch_size', type=int, default=16)\n",
    "parser.add_argument('--lr', type=float, default=1e-4) # 学習率\n",
    "parser.add_argument('--mode', type=str, default='max') # スケジューラの監視対象\n",
    "parser.add_argument('--factor', type=float, default=0.5) # スケジューラの学習率を減衰させる割合\n",
    "parser.add_argument('--lr_patience', type=int, default=5) # スケジューラの監視対象回数\n",
    "parser.add_argument('--threshold', type=float, default=1e-5) # スケジューラの監視対象回数\n",
    "parser.add_argument('--patience', type=int, default=20) # earlystoppingの監視対象回数\n",
    "opt = parser.parse_args(args=[])\n",
    "print(opt)"
   ]
  },
  {
   "cell_type": "code",
   "execution_count": 6,
   "id": "87066eed",
   "metadata": {
    "execution": {
     "iopub.execute_input": "2022-04-16T14:25:32.859123Z",
     "iopub.status.busy": "2022-04-16T14:25:32.858537Z",
     "iopub.status.idle": "2022-04-16T14:25:32.994960Z",
     "shell.execute_reply": "2022-04-16T14:25:32.993400Z"
    },
    "papermill": {
     "duration": 0.168558,
     "end_time": "2022-04-16T14:25:32.997689",
     "exception": false,
     "start_time": "2022-04-16T14:25:32.829131",
     "status": "completed"
    },
    "tags": []
   },
   "outputs": [],
   "source": [
    "# train/PNEUMONIAディレクトリ内の画像リスト作成\n",
    "pneumonia = glob('../input/chest-xray-pneumonia/chest_xray/train/PNEUMONIA/*.jpeg')\n",
    "\n",
    "#print(pneumonia[0])"
   ]
  },
  {
   "cell_type": "code",
   "execution_count": 7,
   "id": "431fcc54",
   "metadata": {
    "execution": {
     "iopub.execute_input": "2022-04-16T14:25:33.073080Z",
     "iopub.status.busy": "2022-04-16T14:25:33.072821Z",
     "iopub.status.idle": "2022-04-16T14:25:33.084339Z",
     "shell.execute_reply": "2022-04-16T14:25:33.083612Z"
    },
    "papermill": {
     "duration": 0.041929,
     "end_time": "2022-04-16T14:25:33.086227",
     "exception": false,
     "start_time": "2022-04-16T14:25:33.044298",
     "status": "completed"
    },
    "tags": []
   },
   "outputs": [],
   "source": [
    "# テストデータのリストを作成\n",
    "train_file_list = []\n",
    "\n",
    "for path in pneumonia:\n",
    "    file_name = re.split('[//////]', path)[6]\n",
    "    train_file_list.append(file_name)\n",
    "    #print(file_name)"
   ]
  },
  {
   "cell_type": "code",
   "execution_count": 8,
   "id": "2144bbde",
   "metadata": {
    "execution": {
     "iopub.execute_input": "2022-04-16T14:25:33.145874Z",
     "iopub.status.busy": "2022-04-16T14:25:33.145613Z",
     "iopub.status.idle": "2022-04-16T14:25:34.150422Z",
     "shell.execute_reply": "2022-04-16T14:25:34.149707Z"
    },
    "papermill": {
     "duration": 1.03708,
     "end_time": "2022-04-16T14:25:34.152754",
     "exception": false,
     "start_time": "2022-04-16T14:25:33.115674",
     "status": "completed"
    },
    "tags": []
   },
   "outputs": [
    {
     "name": "stdout",
     "output_type": "stream",
     "text": [
      "                               name     label\n",
      "0        person1180_virus_2010.jpeg     virus\n",
      "1        person1230_virus_2081.jpeg     virus\n",
      "2        person1513_virus_2632.jpeg     virus\n",
      "3          person124_virus_238.jpeg     virus\n",
      "4         person746_virus_1369.jpeg     virus\n",
      "...                             ...       ...\n",
      "3870     person1541_virus_2681.jpeg     virus\n",
      "3871      person799_virus_1431.jpeg     virus\n",
      "3872      person931_virus_1592.jpeg     virus\n",
      "3873      person861_virus_1506.jpeg     virus\n",
      "3874  person1051_bacteria_2985.jpeg  bacteria\n",
      "\n",
      "[3875 rows x 2 columns]\n",
      "bacteria    2530\n",
      "virus       1345\n",
      "Name: label, dtype: int64\n"
     ]
    }
   ],
   "source": [
    "# ファイル名とラベルのデータフレームを作成\n",
    "df = pd.DataFrame({'name':train_file_list})\n",
    "df['label'] = None\n",
    "\n",
    "# ラベルの付与\n",
    "for i in range(len(df)):\n",
    "    #print(df.iloc[i, 0])\n",
    "    if 'virus' in df.iloc[i, 0]:\n",
    "        df.iloc[i, 1] = 'virus'\n",
    "    \n",
    "    else:\n",
    "        df.iloc[i, 1] = 'bacteria'\n",
    "\n",
    "# データフレームの確認\n",
    "print(df)\n",
    "print(df['label'].value_counts())"
   ]
  },
  {
   "cell_type": "code",
   "execution_count": 9,
   "id": "121bd96f",
   "metadata": {
    "execution": {
     "iopub.execute_input": "2022-04-16T14:25:34.209573Z",
     "iopub.status.busy": "2022-04-16T14:25:34.209365Z",
     "iopub.status.idle": "2022-04-16T14:25:34.219472Z",
     "shell.execute_reply": "2022-04-16T14:25:34.218798Z"
    },
    "papermill": {
     "duration": 0.04194,
     "end_time": "2022-04-16T14:25:34.222297",
     "exception": false,
     "start_time": "2022-04-16T14:25:34.180357",
     "status": "completed"
    },
    "tags": []
   },
   "outputs": [
    {
     "name": "stdout",
     "output_type": "stream",
     "text": [
      "                         name  label\n",
      "0  person1180_virus_2010.jpeg      0\n",
      "1  person1230_virus_2081.jpeg      0\n",
      "2  person1513_virus_2632.jpeg      0\n",
      "3    person124_virus_238.jpeg      0\n",
      "4   person746_virus_1369.jpeg      0\n",
      "1    2530\n",
      "0    1345\n",
      "Name: label, dtype: int64\n"
     ]
    }
   ],
   "source": [
    "# ラベルの変更\n",
    "df['label'] = df['label'].map({'virus': 0,\n",
    "                               'bacteria': 1,\n",
    "})\n",
    "\n",
    "print(df.head())\n",
    "print(df['label'].value_counts())"
   ]
  },
  {
   "cell_type": "code",
   "execution_count": 10,
   "id": "378097ba",
   "metadata": {
    "execution": {
     "iopub.execute_input": "2022-04-16T14:25:34.278971Z",
     "iopub.status.busy": "2022-04-16T14:25:34.278747Z",
     "iopub.status.idle": "2022-04-16T14:25:34.283411Z",
     "shell.execute_reply": "2022-04-16T14:25:34.282766Z"
    },
    "papermill": {
     "duration": 0.034566,
     "end_time": "2022-04-16T14:25:34.285484",
     "exception": false,
     "start_time": "2022-04-16T14:25:34.250918",
     "status": "completed"
    },
    "tags": []
   },
   "outputs": [
    {
     "name": "stdout",
     "output_type": "stream",
     "text": [
      "データ数:  3875\n"
     ]
    }
   ],
   "source": [
    "# 画像データの名前リストの抽出\n",
    "image_name_list = df['name'].values\n",
    "print('データ数: ', len(image_name_list))\n",
    "\n",
    "# ラベルリストの抽出\n",
    "label_list = df['label'].values"
   ]
  },
  {
   "cell_type": "markdown",
   "id": "259fc72d",
   "metadata": {
    "papermill": {
     "duration": 0.027671,
     "end_time": "2022-04-16T14:25:34.340875",
     "exception": false,
     "start_time": "2022-04-16T14:25:34.313204",
     "status": "completed"
    },
    "tags": []
   },
   "source": [
    "# データの分割"
   ]
  },
  {
   "cell_type": "code",
   "execution_count": 11,
   "id": "d4afb008",
   "metadata": {
    "execution": {
     "iopub.execute_input": "2022-04-16T14:25:34.400984Z",
     "iopub.status.busy": "2022-04-16T14:25:34.400376Z",
     "iopub.status.idle": "2022-04-16T14:25:34.410070Z",
     "shell.execute_reply": "2022-04-16T14:25:34.409281Z"
    },
    "papermill": {
     "duration": 0.042071,
     "end_time": "2022-04-16T14:25:34.412009",
     "exception": false,
     "start_time": "2022-04-16T14:25:34.369938",
     "status": "completed"
    },
    "tags": []
   },
   "outputs": [],
   "source": [
    "# 学習データと検証データに分割\n",
    "x_train, x_val, y_train, y_val = train_test_split(image_name_list, label_list, test_size=opt.test_size, stratify=label_list, random_state=42)"
   ]
  },
  {
   "cell_type": "markdown",
   "id": "e437c014",
   "metadata": {
    "papermill": {
     "duration": 0.038361,
     "end_time": "2022-04-16T14:25:34.483369",
     "exception": false,
     "start_time": "2022-04-16T14:25:34.445008",
     "status": "completed"
    },
    "tags": []
   },
   "source": [
    "# 前処理"
   ]
  },
  {
   "cell_type": "code",
   "execution_count": 12,
   "id": "36f7d19b",
   "metadata": {
    "execution": {
     "iopub.execute_input": "2022-04-16T14:25:34.611021Z",
     "iopub.status.busy": "2022-04-16T14:25:34.610523Z",
     "iopub.status.idle": "2022-04-16T14:25:34.616753Z",
     "shell.execute_reply": "2022-04-16T14:25:34.615957Z"
    },
    "papermill": {
     "duration": 0.072048,
     "end_time": "2022-04-16T14:25:34.619410",
     "exception": false,
     "start_time": "2022-04-16T14:25:34.547362",
     "status": "completed"
    },
    "tags": []
   },
   "outputs": [],
   "source": [
    "# 両サイドを5%切り取るクラス\n",
    "class SideCrop():\n",
    "    def __call__(self, image):\n",
    "        w, h = image.size\n",
    "        w1 = 0.05 * w\n",
    "        h1 = 0.05 * h\n",
    "        image_crop = image.crop((w1, 0, w-w1, h)) # (left, upper, right, lower)\n",
    "        return image_crop"
   ]
  },
  {
   "cell_type": "code",
   "execution_count": 13,
   "id": "f20063e6",
   "metadata": {
    "execution": {
     "iopub.execute_input": "2022-04-16T14:25:34.724431Z",
     "iopub.status.busy": "2022-04-16T14:25:34.724078Z",
     "iopub.status.idle": "2022-04-16T14:25:34.734879Z",
     "shell.execute_reply": "2022-04-16T14:25:34.734149Z"
    },
    "papermill": {
     "duration": 0.064581,
     "end_time": "2022-04-16T14:25:34.737097",
     "exception": false,
     "start_time": "2022-04-16T14:25:34.672516",
     "status": "completed"
    },
    "tags": []
   },
   "outputs": [],
   "source": [
    "# transformの設定\n",
    "transform = {\n",
    "    'train': transforms.Compose([\n",
    "        SideCrop(),\n",
    "        transforms.Resize((opt.image_size,opt.image_size)),\n",
    "        transforms.RandomHorizontalFlip(p=0.5),\n",
    "        transforms.RandomVerticalFlip(p=0.5),\n",
    "        transforms.RandomAffine(degrees=[-10, 10], translate=(0.1, 0.1), scale=(0.5, 1.5)),\n",
    "        transforms.RandomRotation(degrees=10),\n",
    "        transforms.ToTensor(),\n",
    "        transforms.Normalize([0.485, 0.456, 0.406], [0.229, 0.224, 0.225]),\n",
    "        ]),\n",
    "    'val': transforms.Compose([\n",
    "        SideCrop(),\n",
    "        transforms.Resize((opt.image_size,opt.image_size)),\n",
    "        transforms.ToTensor(),\n",
    "        transforms.Normalize([0.485, 0.456, 0.406], [0.229, 0.224, 0.225]),\n",
    "        ]),\n",
    "}"
   ]
  },
  {
   "cell_type": "code",
   "execution_count": 14,
   "id": "d2202574",
   "metadata": {
    "execution": {
     "iopub.execute_input": "2022-04-16T14:25:34.830232Z",
     "iopub.status.busy": "2022-04-16T14:25:34.830024Z",
     "iopub.status.idle": "2022-04-16T14:25:34.839895Z",
     "shell.execute_reply": "2022-04-16T14:25:34.838796Z"
    },
    "papermill": {
     "duration": 0.059958,
     "end_time": "2022-04-16T14:25:34.842224",
     "exception": false,
     "start_time": "2022-04-16T14:25:34.782266",
     "status": "completed"
    },
    "tags": []
   },
   "outputs": [],
   "source": [
    "# Datasetの設定\n",
    "class XrayDataset(Dataset):\n",
    "    def __init__(self, image_name_list, label_list, img_dir, transform=None, phase=None):\n",
    "        self.image_name_list = image_name_list # 画像ファイル名\n",
    "        self.label_list = label_list # ラベル\n",
    "        self.img_dir = img_dir # 画像データのディレクトリ\n",
    "        self.phase = phase # 変数phaseで学習(train)もしくは検証(val)の設定を行う\n",
    "        self.transform = transform\n",
    "\n",
    "    def __len__(self):\n",
    "        return len(self.image_name_list) # 1エポックあたりに読み込むデータ数として、入力データの数を指定\n",
    "\n",
    "    def __getitem__(self, index):\n",
    "        \n",
    "        # index番目の画像を読み込み、前処理を行う\n",
    "        image_path = os.path.join(self.img_dir, self.image_name_list[index]) # train_master.iloc[index, 0]はファイル名を抽出\n",
    "        img = Image.open(image_path).convert('RGB')\n",
    "        img = self.transform[self.phase](img)\n",
    "        \n",
    "        # index番目のラベルを取得する\n",
    "        label = self.label_list[index]\n",
    "        \n",
    "        return img, label"
   ]
  },
  {
   "cell_type": "code",
   "execution_count": 15,
   "id": "ee4c0fda",
   "metadata": {
    "execution": {
     "iopub.execute_input": "2022-04-16T14:25:34.936393Z",
     "iopub.status.busy": "2022-04-16T14:25:34.935725Z",
     "iopub.status.idle": "2022-04-16T14:25:34.940137Z",
     "shell.execute_reply": "2022-04-16T14:25:34.939355Z"
    },
    "papermill": {
     "duration": 0.053936,
     "end_time": "2022-04-16T14:25:34.942434",
     "exception": false,
     "start_time": "2022-04-16T14:25:34.888498",
     "status": "completed"
    },
    "tags": []
   },
   "outputs": [],
   "source": [
    "# Datasetのインスタンス作成\n",
    "train_dataset = XrayDataset(x_train, y_train, img_dir, transform=transform, phase='train')\n",
    "val_dataset = XrayDataset(x_val, y_val, img_dir, transform=transform, phase='val')"
   ]
  },
  {
   "cell_type": "code",
   "execution_count": 16,
   "id": "95d4c4fd",
   "metadata": {
    "execution": {
     "iopub.execute_input": "2022-04-16T14:25:35.035780Z",
     "iopub.status.busy": "2022-04-16T14:25:35.035501Z",
     "iopub.status.idle": "2022-04-16T14:25:35.040461Z",
     "shell.execute_reply": "2022-04-16T14:25:35.039758Z"
    },
    "papermill": {
     "duration": 0.056498,
     "end_time": "2022-04-16T14:25:35.043425",
     "exception": false,
     "start_time": "2022-04-16T14:25:34.986927",
     "status": "completed"
    },
    "tags": []
   },
   "outputs": [],
   "source": [
    "# Dataloader\n",
    "dataloader = {\n",
    "    'train': DataLoader(train_dataset, batch_size=opt.batch_size, shuffle=True),\n",
    "    'val': DataLoader(val_dataset, batch_size=opt.batch_size, shuffle=False)\n",
    "}"
   ]
  },
  {
   "cell_type": "code",
   "execution_count": 17,
   "id": "a327eada",
   "metadata": {
    "execution": {
     "iopub.execute_input": "2022-04-16T14:25:35.126621Z",
     "iopub.status.busy": "2022-04-16T14:25:35.126353Z",
     "iopub.status.idle": "2022-04-16T14:25:35.515298Z",
     "shell.execute_reply": "2022-04-16T14:25:35.514311Z"
    },
    "papermill": {
     "duration": 0.425692,
     "end_time": "2022-04-16T14:25:35.517191",
     "exception": false,
     "start_time": "2022-04-16T14:25:35.091499",
     "status": "completed"
    },
    "tags": []
   },
   "outputs": [
    {
     "name": "stdout",
     "output_type": "stream",
     "text": [
      "torch.Size([16, 3, 224, 224])\n",
      "tensor([1, 1, 1, 1, 1, 0, 1, 1, 0, 0, 1, 1, 1, 0, 1, 1])\n"
     ]
    }
   ],
   "source": [
    "# Dataloaderの確認\n",
    "train_iter = iter(dataloader['train'])\n",
    "imgs, labels = train_iter.next()\n",
    "print(imgs.size())\n",
    "print(labels)"
   ]
  },
  {
   "cell_type": "markdown",
   "id": "90b0e8d0",
   "metadata": {
    "papermill": {
     "duration": 0.029277,
     "end_time": "2022-04-16T14:25:35.575711",
     "exception": false,
     "start_time": "2022-04-16T14:25:35.546434",
     "status": "completed"
    },
    "tags": []
   },
   "source": [
    "# EarlyStopping"
   ]
  },
  {
   "cell_type": "code",
   "execution_count": 18,
   "id": "16b1423e",
   "metadata": {
    "execution": {
     "iopub.execute_input": "2022-04-16T14:25:35.634423Z",
     "iopub.status.busy": "2022-04-16T14:25:35.634178Z",
     "iopub.status.idle": "2022-04-16T14:25:35.643755Z",
     "shell.execute_reply": "2022-04-16T14:25:35.643000Z"
    },
    "papermill": {
     "duration": 0.042216,
     "end_time": "2022-04-16T14:25:35.645606",
     "exception": false,
     "start_time": "2022-04-16T14:25:35.603390",
     "status": "completed"
    },
    "tags": []
   },
   "outputs": [],
   "source": [
    "class EarlyStopping:\n",
    "    def __init__(self, patience=10, verbose=0):\n",
    "        '''\n",
    "        Parameters:\n",
    "            patience(int): 監視するエポック数(デフォルトは10)\n",
    "            verbose(int): 早期終了の出力フラグ\n",
    "                          出力(1),出力しない(0)        \n",
    "        '''\n",
    "        # インスタンス変数の初期化\n",
    "        # 監視中のエポック数のカウンターを初期化\n",
    "        self.epoch = 0\n",
    "        # 比較対象の損失を無限大'inf'で初期化\n",
    "        self.pre_loss = float('inf')\n",
    "        # 監視対象のエポック数をパラメーターで初期化\n",
    "        self.patience = patience\n",
    "        # 早期終了メッセージの出力フラグをパラメーターで初期化\n",
    "        self.verbose = verbose\n",
    "        \n",
    "    def __call__(self, current_loss):\n",
    "        '''\n",
    "        Parameters:\n",
    "            current_loss(float): 1エポック終了後の検証データの損失\n",
    "        Return:\n",
    "            True:監視回数の上限までに前エポックの損失を超えた場合\n",
    "            False:監視回数の上限までに前エポックの損失を超えない場合\n",
    "        '''\n",
    "        # 前エポックの損失より大きくなった場合\n",
    "        if self.pre_loss < current_loss:\n",
    "            self.epoch += 1 # カウンターを1増やす\n",
    "            # 監視回数の上限に達した場合\n",
    "            if self.epoch > self.patience:\n",
    "                if self.verbose: # 早期終了のフラグが1の場合\n",
    "                    print('early stopping') # メッセージを出力\n",
    "                return True # 学習を終了するTrueを返す\n",
    "        # 前エポックの損失以下の場合\n",
    "        else:\n",
    "            self.epoch = 0               # カウンターを0に戻す\n",
    "            self.pre_loss = current_loss # 損失の値を更新する\n",
    "        \n",
    "        # 監視回数の上限までに前エポックの損失を超えなければ\n",
    "        # Falseを返して学習を続行する\n",
    "        # 前エポックの損失を上回るが監視回数の範囲内であれば\n",
    "        # Falseを返す必要があるので、return文の位置はここであることに注意\n",
    "        return False"
   ]
  },
  {
   "cell_type": "markdown",
   "id": "9ff47868",
   "metadata": {
    "papermill": {
     "duration": 0.027789,
     "end_time": "2022-04-16T14:25:35.702972",
     "exception": false,
     "start_time": "2022-04-16T14:25:35.675183",
     "status": "completed"
    },
    "tags": []
   },
   "source": [
    "# モデルの定義"
   ]
  },
  {
   "cell_type": "code",
   "execution_count": 19,
   "id": "8af276ba",
   "metadata": {
    "execution": {
     "iopub.execute_input": "2022-04-16T14:25:35.760419Z",
     "iopub.status.busy": "2022-04-16T14:25:35.759763Z",
     "iopub.status.idle": "2022-04-16T14:25:40.662061Z",
     "shell.execute_reply": "2022-04-16T14:25:40.661360Z"
    },
    "papermill": {
     "duration": 4.933695,
     "end_time": "2022-04-16T14:25:40.663909",
     "exception": false,
     "start_time": "2022-04-16T14:25:35.730214",
     "status": "completed"
    },
    "tags": []
   },
   "outputs": [
    {
     "name": "stderr",
     "output_type": "stream",
     "text": [
      "Downloading: \"https://download.pytorch.org/models/mobilenet_v3_large-8738ca79.pth\" to /root/.cache/torch/hub/checkpoints/mobilenet_v3_large-8738ca79.pth\n"
     ]
    },
    {
     "data": {
      "application/vnd.jupyter.widget-view+json": {
       "model_id": "1e9b54965c5a4596b36e757c0f9b565c",
       "version_major": 2,
       "version_minor": 0
      },
      "text/plain": [
       "  0%|          | 0.00/21.1M [00:00<?, ?B/s]"
      ]
     },
     "metadata": {},
     "output_type": "display_data"
    }
   ],
   "source": [
    "# 学習済みモデルの読み込みと最終レイヤーの付け替え\n",
    "model = models.mobilenet_v3_large(pretrained=use_pretrained)\n",
    "fc_in_features = model.classifier[0].out_features # 最終レイヤー関数の次元数\n",
    "model.classifier[3] = nn.Linear(fc_in_features, opt.num_classes) # 最終レイヤー関数の付け替え"
   ]
  },
  {
   "cell_type": "markdown",
   "id": "0fbfe7e8",
   "metadata": {
    "papermill": {
     "duration": 0.028664,
     "end_time": "2022-04-16T14:25:40.723119",
     "exception": false,
     "start_time": "2022-04-16T14:25:40.694455",
     "status": "completed"
    },
    "tags": []
   },
   "source": [
    "# Finetuning"
   ]
  },
  {
   "cell_type": "code",
   "execution_count": 20,
   "id": "3f8d7c5e",
   "metadata": {
    "execution": {
     "iopub.execute_input": "2022-04-16T14:25:40.781588Z",
     "iopub.status.busy": "2022-04-16T14:25:40.781032Z",
     "iopub.status.idle": "2022-04-16T14:25:40.837014Z",
     "shell.execute_reply": "2022-04-16T14:25:40.836327Z"
    },
    "papermill": {
     "duration": 0.087296,
     "end_time": "2022-04-16T14:25:40.839011",
     "exception": false,
     "start_time": "2022-04-16T14:25:40.751715",
     "status": "completed"
    },
    "tags": []
   },
   "outputs": [
    {
     "name": "stdout",
     "output_type": "stream",
     "text": [
      "params_to_update_1に格納： features.0.0.weight\n",
      "params_to_update_1に格納： features.0.1.weight\n",
      "params_to_update_1に格納： features.0.1.bias\n",
      "params_to_update_1に格納： features.1.block.0.0.weight\n",
      "params_to_update_1に格納： features.1.block.0.1.weight\n",
      "params_to_update_1に格納： features.1.block.0.1.bias\n",
      "params_to_update_1に格納： features.1.block.1.0.weight\n",
      "params_to_update_1に格納： features.1.block.1.1.weight\n",
      "params_to_update_1に格納： features.1.block.1.1.bias\n",
      "params_to_update_1に格納： features.2.block.0.0.weight\n",
      "params_to_update_1に格納： features.2.block.0.1.weight\n",
      "params_to_update_1に格納： features.2.block.0.1.bias\n",
      "params_to_update_1に格納： features.2.block.1.0.weight\n",
      "params_to_update_1に格納： features.2.block.1.1.weight\n",
      "params_to_update_1に格納： features.2.block.1.1.bias\n",
      "params_to_update_1に格納： features.2.block.2.0.weight\n",
      "params_to_update_1に格納： features.2.block.2.1.weight\n",
      "params_to_update_1に格納： features.2.block.2.1.bias\n",
      "params_to_update_1に格納： features.3.block.0.0.weight\n",
      "params_to_update_1に格納： features.3.block.0.1.weight\n",
      "params_to_update_1に格納： features.3.block.0.1.bias\n",
      "params_to_update_1に格納： features.3.block.1.0.weight\n",
      "params_to_update_1に格納： features.3.block.1.1.weight\n",
      "params_to_update_1に格納： features.3.block.1.1.bias\n",
      "params_to_update_1に格納： features.3.block.2.0.weight\n",
      "params_to_update_1に格納： features.3.block.2.1.weight\n",
      "params_to_update_1に格納： features.3.block.2.1.bias\n",
      "params_to_update_1に格納： features.4.block.0.0.weight\n",
      "params_to_update_1に格納： features.4.block.0.1.weight\n",
      "params_to_update_1に格納： features.4.block.0.1.bias\n",
      "params_to_update_1に格納： features.4.block.1.0.weight\n",
      "params_to_update_1に格納： features.4.block.1.1.weight\n",
      "params_to_update_1に格納： features.4.block.1.1.bias\n",
      "params_to_update_1に格納： features.4.block.2.fc1.weight\n",
      "params_to_update_1に格納： features.4.block.2.fc1.bias\n",
      "params_to_update_1に格納： features.4.block.2.fc2.weight\n",
      "params_to_update_1に格納： features.4.block.2.fc2.bias\n",
      "params_to_update_1に格納： features.4.block.3.0.weight\n",
      "params_to_update_1に格納： features.4.block.3.1.weight\n",
      "params_to_update_1に格納： features.4.block.3.1.bias\n",
      "params_to_update_1に格納： features.5.block.0.0.weight\n",
      "params_to_update_1に格納： features.5.block.0.1.weight\n",
      "params_to_update_1に格納： features.5.block.0.1.bias\n",
      "params_to_update_1に格納： features.5.block.1.0.weight\n",
      "params_to_update_1に格納： features.5.block.1.1.weight\n",
      "params_to_update_1に格納： features.5.block.1.1.bias\n",
      "params_to_update_1に格納： features.5.block.2.fc1.weight\n",
      "params_to_update_1に格納： features.5.block.2.fc1.bias\n",
      "params_to_update_1に格納： features.5.block.2.fc2.weight\n",
      "params_to_update_1に格納： features.5.block.2.fc2.bias\n",
      "params_to_update_1に格納： features.5.block.3.0.weight\n",
      "params_to_update_1に格納： features.5.block.3.1.weight\n",
      "params_to_update_1に格納： features.5.block.3.1.bias\n",
      "params_to_update_1に格納： features.6.block.0.0.weight\n",
      "params_to_update_1に格納： features.6.block.0.1.weight\n",
      "params_to_update_1に格納： features.6.block.0.1.bias\n",
      "params_to_update_1に格納： features.6.block.1.0.weight\n",
      "params_to_update_1に格納： features.6.block.1.1.weight\n",
      "params_to_update_1に格納： features.6.block.1.1.bias\n",
      "params_to_update_1に格納： features.6.block.2.fc1.weight\n",
      "params_to_update_1に格納： features.6.block.2.fc1.bias\n",
      "params_to_update_1に格納： features.6.block.2.fc2.weight\n",
      "params_to_update_1に格納： features.6.block.2.fc2.bias\n",
      "params_to_update_1に格納： features.6.block.3.0.weight\n",
      "params_to_update_1に格納： features.6.block.3.1.weight\n",
      "params_to_update_1に格納： features.6.block.3.1.bias\n",
      "params_to_update_1に格納： features.7.block.0.0.weight\n",
      "params_to_update_1に格納： features.7.block.0.1.weight\n",
      "params_to_update_1に格納： features.7.block.0.1.bias\n",
      "params_to_update_1に格納： features.7.block.1.0.weight\n",
      "params_to_update_1に格納： features.7.block.1.1.weight\n",
      "params_to_update_1に格納： features.7.block.1.1.bias\n",
      "params_to_update_1に格納： features.7.block.2.0.weight\n",
      "params_to_update_1に格納： features.7.block.2.1.weight\n",
      "params_to_update_1に格納： features.7.block.2.1.bias\n",
      "params_to_update_1に格納： features.8.block.0.0.weight\n",
      "params_to_update_1に格納： features.8.block.0.1.weight\n",
      "params_to_update_1に格納： features.8.block.0.1.bias\n",
      "params_to_update_1に格納： features.8.block.1.0.weight\n",
      "params_to_update_1に格納： features.8.block.1.1.weight\n",
      "params_to_update_1に格納： features.8.block.1.1.bias\n",
      "params_to_update_1に格納： features.8.block.2.0.weight\n",
      "params_to_update_1に格納： features.8.block.2.1.weight\n",
      "params_to_update_1に格納： features.8.block.2.1.bias\n",
      "params_to_update_1に格納： features.9.block.0.0.weight\n",
      "params_to_update_1に格納： features.9.block.0.1.weight\n",
      "params_to_update_1に格納： features.9.block.0.1.bias\n",
      "params_to_update_1に格納： features.9.block.1.0.weight\n",
      "params_to_update_1に格納： features.9.block.1.1.weight\n",
      "params_to_update_1に格納： features.9.block.1.1.bias\n",
      "params_to_update_1に格納： features.9.block.2.0.weight\n",
      "params_to_update_1に格納： features.9.block.2.1.weight\n",
      "params_to_update_1に格納： features.9.block.2.1.bias\n",
      "params_to_update_1に格納： features.10.block.0.0.weight\n",
      "params_to_update_1に格納： features.10.block.0.1.weight\n",
      "params_to_update_1に格納： features.10.block.0.1.bias\n",
      "params_to_update_1に格納： features.10.block.1.0.weight\n",
      "params_to_update_1に格納： features.10.block.1.1.weight\n",
      "params_to_update_1に格納： features.10.block.1.1.bias\n",
      "params_to_update_1に格納： features.10.block.2.0.weight\n",
      "params_to_update_1に格納： features.10.block.2.1.weight\n",
      "params_to_update_1に格納： features.10.block.2.1.bias\n",
      "params_to_update_1に格納： features.11.block.0.0.weight\n",
      "params_to_update_1に格納： features.11.block.0.1.weight\n",
      "params_to_update_1に格納： features.11.block.0.1.bias\n",
      "params_to_update_1に格納： features.11.block.1.0.weight\n",
      "params_to_update_1に格納： features.11.block.1.1.weight\n",
      "params_to_update_1に格納： features.11.block.1.1.bias\n",
      "params_to_update_1に格納： features.11.block.2.fc1.weight\n",
      "params_to_update_1に格納： features.11.block.2.fc1.bias\n",
      "params_to_update_1に格納： features.11.block.2.fc2.weight\n",
      "params_to_update_1に格納： features.11.block.2.fc2.bias\n",
      "params_to_update_1に格納： features.11.block.3.0.weight\n",
      "params_to_update_1に格納： features.11.block.3.1.weight\n",
      "params_to_update_1に格納： features.11.block.3.1.bias\n",
      "params_to_update_1に格納： features.12.block.0.0.weight\n",
      "params_to_update_1に格納： features.12.block.0.1.weight\n",
      "params_to_update_1に格納： features.12.block.0.1.bias\n",
      "params_to_update_1に格納： features.12.block.1.0.weight\n",
      "params_to_update_1に格納： features.12.block.1.1.weight\n",
      "params_to_update_1に格納： features.12.block.1.1.bias\n",
      "params_to_update_1に格納： features.12.block.2.fc1.weight\n",
      "params_to_update_1に格納： features.12.block.2.fc1.bias\n",
      "params_to_update_1に格納： features.12.block.2.fc2.weight\n",
      "params_to_update_1に格納： features.12.block.2.fc2.bias\n",
      "params_to_update_1に格納： features.12.block.3.0.weight\n",
      "params_to_update_1に格納： features.12.block.3.1.weight\n",
      "params_to_update_1に格納： features.12.block.3.1.bias\n",
      "params_to_update_1に格納： features.13.block.0.0.weight\n",
      "params_to_update_1に格納： features.13.block.0.1.weight\n",
      "params_to_update_1に格納： features.13.block.0.1.bias\n",
      "params_to_update_1に格納： features.13.block.1.0.weight\n",
      "params_to_update_1に格納： features.13.block.1.1.weight\n",
      "params_to_update_1に格納： features.13.block.1.1.bias\n",
      "params_to_update_1に格納： features.13.block.2.fc1.weight\n",
      "params_to_update_1に格納： features.13.block.2.fc1.bias\n",
      "params_to_update_1に格納： features.13.block.2.fc2.weight\n",
      "params_to_update_1に格納： features.13.block.2.fc2.bias\n",
      "params_to_update_1に格納： features.13.block.3.0.weight\n",
      "params_to_update_1に格納： features.13.block.3.1.weight\n",
      "params_to_update_1に格納： features.13.block.3.1.bias\n",
      "params_to_update_1に格納： features.14.block.0.0.weight\n",
      "params_to_update_1に格納： features.14.block.0.1.weight\n",
      "params_to_update_1に格納： features.14.block.0.1.bias\n",
      "params_to_update_1に格納： features.14.block.1.0.weight\n",
      "params_to_update_1に格納： features.14.block.1.1.weight\n",
      "params_to_update_1に格納： features.14.block.1.1.bias\n",
      "params_to_update_1に格納： features.14.block.2.fc1.weight\n",
      "params_to_update_1に格納： features.14.block.2.fc1.bias\n",
      "params_to_update_1に格納： features.14.block.2.fc2.weight\n",
      "params_to_update_1に格納： features.14.block.2.fc2.bias\n",
      "params_to_update_1に格納： features.14.block.3.0.weight\n",
      "params_to_update_1に格納： features.14.block.3.1.weight\n",
      "params_to_update_1に格納： features.14.block.3.1.bias\n",
      "params_to_update_1に格納： features.15.block.0.0.weight\n",
      "params_to_update_1に格納： features.15.block.0.1.weight\n",
      "params_to_update_1に格納： features.15.block.0.1.bias\n",
      "params_to_update_1に格納： features.15.block.1.0.weight\n",
      "params_to_update_1に格納： features.15.block.1.1.weight\n",
      "params_to_update_1に格納： features.15.block.1.1.bias\n",
      "params_to_update_1に格納： features.15.block.2.fc1.weight\n",
      "params_to_update_1に格納： features.15.block.2.fc1.bias\n",
      "params_to_update_1に格納： features.15.block.2.fc2.weight\n",
      "params_to_update_1に格納： features.15.block.2.fc2.bias\n",
      "params_to_update_1に格納： features.15.block.3.0.weight\n",
      "params_to_update_1に格納： features.15.block.3.1.weight\n",
      "params_to_update_1に格納： features.15.block.3.1.bias\n",
      "params_to_update_1に格納： features.16.0.weight\n",
      "params_to_update_1に格納： features.16.1.weight\n",
      "params_to_update_1に格納： features.16.1.bias\n",
      "params_to_update_2に格納： classifier.0.weight\n",
      "params_to_update_2に格納： classifier.0.bias\n",
      "params_to_update_2に格納： classifier.3.weight\n",
      "params_to_update_2に格納： classifier.3.bias\n"
     ]
    }
   ],
   "source": [
    "# ファインチューニングで学習させるパラメータを、変数params_to_updateの1～3に格納する\n",
    "\n",
    "params_to_update_1 = []\n",
    "params_to_update_2 = []\n",
    "\n",
    "# 学習させる層のパラメータ名を指定\n",
    "update_param_names_1 = [\"features\"]\n",
    "update_param_names_2 = [\"classifier.0.weight\", \"classifier.0.bias\",\n",
    "                        \"classifier.3.weight\", \"classifier.3.bias\"]\n",
    "\n",
    "# パラメータごとに各リストに格納する\n",
    "for name, param in model.named_parameters():\n",
    "    if update_param_names_1[0] in name:\n",
    "        param.requires_grad = True\n",
    "        params_to_update_1.append(param)\n",
    "        print(\"params_to_update_1に格納：\", name)\n",
    "\n",
    "    elif name in update_param_names_2:\n",
    "        param.requires_grad = True\n",
    "        params_to_update_2.append(param)\n",
    "        print(\"params_to_update_2に格納：\", name)\n",
    "\n",
    "    else:\n",
    "        param.requires_grad = False\n",
    "        print(\"勾配計算なし。学習しない：\", name)"
   ]
  },
  {
   "cell_type": "code",
   "execution_count": 21,
   "id": "b4110484",
   "metadata": {
    "execution": {
     "iopub.execute_input": "2022-04-16T14:25:40.898806Z",
     "iopub.status.busy": "2022-04-16T14:25:40.898511Z",
     "iopub.status.idle": "2022-04-16T14:25:43.733202Z",
     "shell.execute_reply": "2022-04-16T14:25:43.732509Z"
    },
    "papermill": {
     "duration": 2.86721,
     "end_time": "2022-04-16T14:25:43.735488",
     "exception": false,
     "start_time": "2022-04-16T14:25:40.868278",
     "status": "completed"
    },
    "tags": []
   },
   "outputs": [
    {
     "data": {
      "text/plain": [
       "MobileNetV3(\n",
       "  (features): Sequential(\n",
       "    (0): ConvBNActivation(\n",
       "      (0): Conv2d(3, 16, kernel_size=(3, 3), stride=(2, 2), padding=(1, 1), bias=False)\n",
       "      (1): BatchNorm2d(16, eps=0.001, momentum=0.01, affine=True, track_running_stats=True)\n",
       "      (2): Hardswish()\n",
       "    )\n",
       "    (1): InvertedResidual(\n",
       "      (block): Sequential(\n",
       "        (0): ConvBNActivation(\n",
       "          (0): Conv2d(16, 16, kernel_size=(3, 3), stride=(1, 1), padding=(1, 1), groups=16, bias=False)\n",
       "          (1): BatchNorm2d(16, eps=0.001, momentum=0.01, affine=True, track_running_stats=True)\n",
       "          (2): ReLU(inplace=True)\n",
       "        )\n",
       "        (1): ConvBNActivation(\n",
       "          (0): Conv2d(16, 16, kernel_size=(1, 1), stride=(1, 1), bias=False)\n",
       "          (1): BatchNorm2d(16, eps=0.001, momentum=0.01, affine=True, track_running_stats=True)\n",
       "          (2): Identity()\n",
       "        )\n",
       "      )\n",
       "    )\n",
       "    (2): InvertedResidual(\n",
       "      (block): Sequential(\n",
       "        (0): ConvBNActivation(\n",
       "          (0): Conv2d(16, 64, kernel_size=(1, 1), stride=(1, 1), bias=False)\n",
       "          (1): BatchNorm2d(64, eps=0.001, momentum=0.01, affine=True, track_running_stats=True)\n",
       "          (2): ReLU(inplace=True)\n",
       "        )\n",
       "        (1): ConvBNActivation(\n",
       "          (0): Conv2d(64, 64, kernel_size=(3, 3), stride=(2, 2), padding=(1, 1), groups=64, bias=False)\n",
       "          (1): BatchNorm2d(64, eps=0.001, momentum=0.01, affine=True, track_running_stats=True)\n",
       "          (2): ReLU(inplace=True)\n",
       "        )\n",
       "        (2): ConvBNActivation(\n",
       "          (0): Conv2d(64, 24, kernel_size=(1, 1), stride=(1, 1), bias=False)\n",
       "          (1): BatchNorm2d(24, eps=0.001, momentum=0.01, affine=True, track_running_stats=True)\n",
       "          (2): Identity()\n",
       "        )\n",
       "      )\n",
       "    )\n",
       "    (3): InvertedResidual(\n",
       "      (block): Sequential(\n",
       "        (0): ConvBNActivation(\n",
       "          (0): Conv2d(24, 72, kernel_size=(1, 1), stride=(1, 1), bias=False)\n",
       "          (1): BatchNorm2d(72, eps=0.001, momentum=0.01, affine=True, track_running_stats=True)\n",
       "          (2): ReLU(inplace=True)\n",
       "        )\n",
       "        (1): ConvBNActivation(\n",
       "          (0): Conv2d(72, 72, kernel_size=(3, 3), stride=(1, 1), padding=(1, 1), groups=72, bias=False)\n",
       "          (1): BatchNorm2d(72, eps=0.001, momentum=0.01, affine=True, track_running_stats=True)\n",
       "          (2): ReLU(inplace=True)\n",
       "        )\n",
       "        (2): ConvBNActivation(\n",
       "          (0): Conv2d(72, 24, kernel_size=(1, 1), stride=(1, 1), bias=False)\n",
       "          (1): BatchNorm2d(24, eps=0.001, momentum=0.01, affine=True, track_running_stats=True)\n",
       "          (2): Identity()\n",
       "        )\n",
       "      )\n",
       "    )\n",
       "    (4): InvertedResidual(\n",
       "      (block): Sequential(\n",
       "        (0): ConvBNActivation(\n",
       "          (0): Conv2d(24, 72, kernel_size=(1, 1), stride=(1, 1), bias=False)\n",
       "          (1): BatchNorm2d(72, eps=0.001, momentum=0.01, affine=True, track_running_stats=True)\n",
       "          (2): ReLU(inplace=True)\n",
       "        )\n",
       "        (1): ConvBNActivation(\n",
       "          (0): Conv2d(72, 72, kernel_size=(5, 5), stride=(2, 2), padding=(2, 2), groups=72, bias=False)\n",
       "          (1): BatchNorm2d(72, eps=0.001, momentum=0.01, affine=True, track_running_stats=True)\n",
       "          (2): ReLU(inplace=True)\n",
       "        )\n",
       "        (2): SqueezeExcitation(\n",
       "          (fc1): Conv2d(72, 24, kernel_size=(1, 1), stride=(1, 1))\n",
       "          (relu): ReLU(inplace=True)\n",
       "          (fc2): Conv2d(24, 72, kernel_size=(1, 1), stride=(1, 1))\n",
       "        )\n",
       "        (3): ConvBNActivation(\n",
       "          (0): Conv2d(72, 40, kernel_size=(1, 1), stride=(1, 1), bias=False)\n",
       "          (1): BatchNorm2d(40, eps=0.001, momentum=0.01, affine=True, track_running_stats=True)\n",
       "          (2): Identity()\n",
       "        )\n",
       "      )\n",
       "    )\n",
       "    (5): InvertedResidual(\n",
       "      (block): Sequential(\n",
       "        (0): ConvBNActivation(\n",
       "          (0): Conv2d(40, 120, kernel_size=(1, 1), stride=(1, 1), bias=False)\n",
       "          (1): BatchNorm2d(120, eps=0.001, momentum=0.01, affine=True, track_running_stats=True)\n",
       "          (2): ReLU(inplace=True)\n",
       "        )\n",
       "        (1): ConvBNActivation(\n",
       "          (0): Conv2d(120, 120, kernel_size=(5, 5), stride=(1, 1), padding=(2, 2), groups=120, bias=False)\n",
       "          (1): BatchNorm2d(120, eps=0.001, momentum=0.01, affine=True, track_running_stats=True)\n",
       "          (2): ReLU(inplace=True)\n",
       "        )\n",
       "        (2): SqueezeExcitation(\n",
       "          (fc1): Conv2d(120, 32, kernel_size=(1, 1), stride=(1, 1))\n",
       "          (relu): ReLU(inplace=True)\n",
       "          (fc2): Conv2d(32, 120, kernel_size=(1, 1), stride=(1, 1))\n",
       "        )\n",
       "        (3): ConvBNActivation(\n",
       "          (0): Conv2d(120, 40, kernel_size=(1, 1), stride=(1, 1), bias=False)\n",
       "          (1): BatchNorm2d(40, eps=0.001, momentum=0.01, affine=True, track_running_stats=True)\n",
       "          (2): Identity()\n",
       "        )\n",
       "      )\n",
       "    )\n",
       "    (6): InvertedResidual(\n",
       "      (block): Sequential(\n",
       "        (0): ConvBNActivation(\n",
       "          (0): Conv2d(40, 120, kernel_size=(1, 1), stride=(1, 1), bias=False)\n",
       "          (1): BatchNorm2d(120, eps=0.001, momentum=0.01, affine=True, track_running_stats=True)\n",
       "          (2): ReLU(inplace=True)\n",
       "        )\n",
       "        (1): ConvBNActivation(\n",
       "          (0): Conv2d(120, 120, kernel_size=(5, 5), stride=(1, 1), padding=(2, 2), groups=120, bias=False)\n",
       "          (1): BatchNorm2d(120, eps=0.001, momentum=0.01, affine=True, track_running_stats=True)\n",
       "          (2): ReLU(inplace=True)\n",
       "        )\n",
       "        (2): SqueezeExcitation(\n",
       "          (fc1): Conv2d(120, 32, kernel_size=(1, 1), stride=(1, 1))\n",
       "          (relu): ReLU(inplace=True)\n",
       "          (fc2): Conv2d(32, 120, kernel_size=(1, 1), stride=(1, 1))\n",
       "        )\n",
       "        (3): ConvBNActivation(\n",
       "          (0): Conv2d(120, 40, kernel_size=(1, 1), stride=(1, 1), bias=False)\n",
       "          (1): BatchNorm2d(40, eps=0.001, momentum=0.01, affine=True, track_running_stats=True)\n",
       "          (2): Identity()\n",
       "        )\n",
       "      )\n",
       "    )\n",
       "    (7): InvertedResidual(\n",
       "      (block): Sequential(\n",
       "        (0): ConvBNActivation(\n",
       "          (0): Conv2d(40, 240, kernel_size=(1, 1), stride=(1, 1), bias=False)\n",
       "          (1): BatchNorm2d(240, eps=0.001, momentum=0.01, affine=True, track_running_stats=True)\n",
       "          (2): Hardswish()\n",
       "        )\n",
       "        (1): ConvBNActivation(\n",
       "          (0): Conv2d(240, 240, kernel_size=(3, 3), stride=(2, 2), padding=(1, 1), groups=240, bias=False)\n",
       "          (1): BatchNorm2d(240, eps=0.001, momentum=0.01, affine=True, track_running_stats=True)\n",
       "          (2): Hardswish()\n",
       "        )\n",
       "        (2): ConvBNActivation(\n",
       "          (0): Conv2d(240, 80, kernel_size=(1, 1), stride=(1, 1), bias=False)\n",
       "          (1): BatchNorm2d(80, eps=0.001, momentum=0.01, affine=True, track_running_stats=True)\n",
       "          (2): Identity()\n",
       "        )\n",
       "      )\n",
       "    )\n",
       "    (8): InvertedResidual(\n",
       "      (block): Sequential(\n",
       "        (0): ConvBNActivation(\n",
       "          (0): Conv2d(80, 200, kernel_size=(1, 1), stride=(1, 1), bias=False)\n",
       "          (1): BatchNorm2d(200, eps=0.001, momentum=0.01, affine=True, track_running_stats=True)\n",
       "          (2): Hardswish()\n",
       "        )\n",
       "        (1): ConvBNActivation(\n",
       "          (0): Conv2d(200, 200, kernel_size=(3, 3), stride=(1, 1), padding=(1, 1), groups=200, bias=False)\n",
       "          (1): BatchNorm2d(200, eps=0.001, momentum=0.01, affine=True, track_running_stats=True)\n",
       "          (2): Hardswish()\n",
       "        )\n",
       "        (2): ConvBNActivation(\n",
       "          (0): Conv2d(200, 80, kernel_size=(1, 1), stride=(1, 1), bias=False)\n",
       "          (1): BatchNorm2d(80, eps=0.001, momentum=0.01, affine=True, track_running_stats=True)\n",
       "          (2): Identity()\n",
       "        )\n",
       "      )\n",
       "    )\n",
       "    (9): InvertedResidual(\n",
       "      (block): Sequential(\n",
       "        (0): ConvBNActivation(\n",
       "          (0): Conv2d(80, 184, kernel_size=(1, 1), stride=(1, 1), bias=False)\n",
       "          (1): BatchNorm2d(184, eps=0.001, momentum=0.01, affine=True, track_running_stats=True)\n",
       "          (2): Hardswish()\n",
       "        )\n",
       "        (1): ConvBNActivation(\n",
       "          (0): Conv2d(184, 184, kernel_size=(3, 3), stride=(1, 1), padding=(1, 1), groups=184, bias=False)\n",
       "          (1): BatchNorm2d(184, eps=0.001, momentum=0.01, affine=True, track_running_stats=True)\n",
       "          (2): Hardswish()\n",
       "        )\n",
       "        (2): ConvBNActivation(\n",
       "          (0): Conv2d(184, 80, kernel_size=(1, 1), stride=(1, 1), bias=False)\n",
       "          (1): BatchNorm2d(80, eps=0.001, momentum=0.01, affine=True, track_running_stats=True)\n",
       "          (2): Identity()\n",
       "        )\n",
       "      )\n",
       "    )\n",
       "    (10): InvertedResidual(\n",
       "      (block): Sequential(\n",
       "        (0): ConvBNActivation(\n",
       "          (0): Conv2d(80, 184, kernel_size=(1, 1), stride=(1, 1), bias=False)\n",
       "          (1): BatchNorm2d(184, eps=0.001, momentum=0.01, affine=True, track_running_stats=True)\n",
       "          (2): Hardswish()\n",
       "        )\n",
       "        (1): ConvBNActivation(\n",
       "          (0): Conv2d(184, 184, kernel_size=(3, 3), stride=(1, 1), padding=(1, 1), groups=184, bias=False)\n",
       "          (1): BatchNorm2d(184, eps=0.001, momentum=0.01, affine=True, track_running_stats=True)\n",
       "          (2): Hardswish()\n",
       "        )\n",
       "        (2): ConvBNActivation(\n",
       "          (0): Conv2d(184, 80, kernel_size=(1, 1), stride=(1, 1), bias=False)\n",
       "          (1): BatchNorm2d(80, eps=0.001, momentum=0.01, affine=True, track_running_stats=True)\n",
       "          (2): Identity()\n",
       "        )\n",
       "      )\n",
       "    )\n",
       "    (11): InvertedResidual(\n",
       "      (block): Sequential(\n",
       "        (0): ConvBNActivation(\n",
       "          (0): Conv2d(80, 480, kernel_size=(1, 1), stride=(1, 1), bias=False)\n",
       "          (1): BatchNorm2d(480, eps=0.001, momentum=0.01, affine=True, track_running_stats=True)\n",
       "          (2): Hardswish()\n",
       "        )\n",
       "        (1): ConvBNActivation(\n",
       "          (0): Conv2d(480, 480, kernel_size=(3, 3), stride=(1, 1), padding=(1, 1), groups=480, bias=False)\n",
       "          (1): BatchNorm2d(480, eps=0.001, momentum=0.01, affine=True, track_running_stats=True)\n",
       "          (2): Hardswish()\n",
       "        )\n",
       "        (2): SqueezeExcitation(\n",
       "          (fc1): Conv2d(480, 120, kernel_size=(1, 1), stride=(1, 1))\n",
       "          (relu): ReLU(inplace=True)\n",
       "          (fc2): Conv2d(120, 480, kernel_size=(1, 1), stride=(1, 1))\n",
       "        )\n",
       "        (3): ConvBNActivation(\n",
       "          (0): Conv2d(480, 112, kernel_size=(1, 1), stride=(1, 1), bias=False)\n",
       "          (1): BatchNorm2d(112, eps=0.001, momentum=0.01, affine=True, track_running_stats=True)\n",
       "          (2): Identity()\n",
       "        )\n",
       "      )\n",
       "    )\n",
       "    (12): InvertedResidual(\n",
       "      (block): Sequential(\n",
       "        (0): ConvBNActivation(\n",
       "          (0): Conv2d(112, 672, kernel_size=(1, 1), stride=(1, 1), bias=False)\n",
       "          (1): BatchNorm2d(672, eps=0.001, momentum=0.01, affine=True, track_running_stats=True)\n",
       "          (2): Hardswish()\n",
       "        )\n",
       "        (1): ConvBNActivation(\n",
       "          (0): Conv2d(672, 672, kernel_size=(3, 3), stride=(1, 1), padding=(1, 1), groups=672, bias=False)\n",
       "          (1): BatchNorm2d(672, eps=0.001, momentum=0.01, affine=True, track_running_stats=True)\n",
       "          (2): Hardswish()\n",
       "        )\n",
       "        (2): SqueezeExcitation(\n",
       "          (fc1): Conv2d(672, 168, kernel_size=(1, 1), stride=(1, 1))\n",
       "          (relu): ReLU(inplace=True)\n",
       "          (fc2): Conv2d(168, 672, kernel_size=(1, 1), stride=(1, 1))\n",
       "        )\n",
       "        (3): ConvBNActivation(\n",
       "          (0): Conv2d(672, 112, kernel_size=(1, 1), stride=(1, 1), bias=False)\n",
       "          (1): BatchNorm2d(112, eps=0.001, momentum=0.01, affine=True, track_running_stats=True)\n",
       "          (2): Identity()\n",
       "        )\n",
       "      )\n",
       "    )\n",
       "    (13): InvertedResidual(\n",
       "      (block): Sequential(\n",
       "        (0): ConvBNActivation(\n",
       "          (0): Conv2d(112, 672, kernel_size=(1, 1), stride=(1, 1), bias=False)\n",
       "          (1): BatchNorm2d(672, eps=0.001, momentum=0.01, affine=True, track_running_stats=True)\n",
       "          (2): Hardswish()\n",
       "        )\n",
       "        (1): ConvBNActivation(\n",
       "          (0): Conv2d(672, 672, kernel_size=(5, 5), stride=(2, 2), padding=(2, 2), groups=672, bias=False)\n",
       "          (1): BatchNorm2d(672, eps=0.001, momentum=0.01, affine=True, track_running_stats=True)\n",
       "          (2): Hardswish()\n",
       "        )\n",
       "        (2): SqueezeExcitation(\n",
       "          (fc1): Conv2d(672, 168, kernel_size=(1, 1), stride=(1, 1))\n",
       "          (relu): ReLU(inplace=True)\n",
       "          (fc2): Conv2d(168, 672, kernel_size=(1, 1), stride=(1, 1))\n",
       "        )\n",
       "        (3): ConvBNActivation(\n",
       "          (0): Conv2d(672, 160, kernel_size=(1, 1), stride=(1, 1), bias=False)\n",
       "          (1): BatchNorm2d(160, eps=0.001, momentum=0.01, affine=True, track_running_stats=True)\n",
       "          (2): Identity()\n",
       "        )\n",
       "      )\n",
       "    )\n",
       "    (14): InvertedResidual(\n",
       "      (block): Sequential(\n",
       "        (0): ConvBNActivation(\n",
       "          (0): Conv2d(160, 960, kernel_size=(1, 1), stride=(1, 1), bias=False)\n",
       "          (1): BatchNorm2d(960, eps=0.001, momentum=0.01, affine=True, track_running_stats=True)\n",
       "          (2): Hardswish()\n",
       "        )\n",
       "        (1): ConvBNActivation(\n",
       "          (0): Conv2d(960, 960, kernel_size=(5, 5), stride=(1, 1), padding=(2, 2), groups=960, bias=False)\n",
       "          (1): BatchNorm2d(960, eps=0.001, momentum=0.01, affine=True, track_running_stats=True)\n",
       "          (2): Hardswish()\n",
       "        )\n",
       "        (2): SqueezeExcitation(\n",
       "          (fc1): Conv2d(960, 240, kernel_size=(1, 1), stride=(1, 1))\n",
       "          (relu): ReLU(inplace=True)\n",
       "          (fc2): Conv2d(240, 960, kernel_size=(1, 1), stride=(1, 1))\n",
       "        )\n",
       "        (3): ConvBNActivation(\n",
       "          (0): Conv2d(960, 160, kernel_size=(1, 1), stride=(1, 1), bias=False)\n",
       "          (1): BatchNorm2d(160, eps=0.001, momentum=0.01, affine=True, track_running_stats=True)\n",
       "          (2): Identity()\n",
       "        )\n",
       "      )\n",
       "    )\n",
       "    (15): InvertedResidual(\n",
       "      (block): Sequential(\n",
       "        (0): ConvBNActivation(\n",
       "          (0): Conv2d(160, 960, kernel_size=(1, 1), stride=(1, 1), bias=False)\n",
       "          (1): BatchNorm2d(960, eps=0.001, momentum=0.01, affine=True, track_running_stats=True)\n",
       "          (2): Hardswish()\n",
       "        )\n",
       "        (1): ConvBNActivation(\n",
       "          (0): Conv2d(960, 960, kernel_size=(5, 5), stride=(1, 1), padding=(2, 2), groups=960, bias=False)\n",
       "          (1): BatchNorm2d(960, eps=0.001, momentum=0.01, affine=True, track_running_stats=True)\n",
       "          (2): Hardswish()\n",
       "        )\n",
       "        (2): SqueezeExcitation(\n",
       "          (fc1): Conv2d(960, 240, kernel_size=(1, 1), stride=(1, 1))\n",
       "          (relu): ReLU(inplace=True)\n",
       "          (fc2): Conv2d(240, 960, kernel_size=(1, 1), stride=(1, 1))\n",
       "        )\n",
       "        (3): ConvBNActivation(\n",
       "          (0): Conv2d(960, 160, kernel_size=(1, 1), stride=(1, 1), bias=False)\n",
       "          (1): BatchNorm2d(160, eps=0.001, momentum=0.01, affine=True, track_running_stats=True)\n",
       "          (2): Identity()\n",
       "        )\n",
       "      )\n",
       "    )\n",
       "    (16): ConvBNActivation(\n",
       "      (0): Conv2d(160, 960, kernel_size=(1, 1), stride=(1, 1), bias=False)\n",
       "      (1): BatchNorm2d(960, eps=0.001, momentum=0.01, affine=True, track_running_stats=True)\n",
       "      (2): Hardswish()\n",
       "    )\n",
       "  )\n",
       "  (avgpool): AdaptiveAvgPool2d(output_size=1)\n",
       "  (classifier): Sequential(\n",
       "    (0): Linear(in_features=960, out_features=1280, bias=True)\n",
       "    (1): Hardswish()\n",
       "    (2): Dropout(p=0.2, inplace=True)\n",
       "    (3): Linear(in_features=1280, out_features=2, bias=True)\n",
       "  )\n",
       ")"
      ]
     },
     "execution_count": 21,
     "metadata": {},
     "output_type": "execute_result"
    }
   ],
   "source": [
    "# モデルをGPUに送る\n",
    "model.to(device)"
   ]
  },
  {
   "cell_type": "markdown",
   "id": "6ebbad20",
   "metadata": {
    "papermill": {
     "duration": 0.029944,
     "end_time": "2022-04-16T14:25:43.795874",
     "exception": false,
     "start_time": "2022-04-16T14:25:43.765930",
     "status": "completed"
    },
    "tags": []
   },
   "source": [
    "# 学習"
   ]
  },
  {
   "cell_type": "code",
   "execution_count": 22,
   "id": "d2a282b7",
   "metadata": {
    "execution": {
     "iopub.execute_input": "2022-04-16T14:25:43.857384Z",
     "iopub.status.busy": "2022-04-16T14:25:43.857057Z",
     "iopub.status.idle": "2022-04-16T14:25:43.862172Z",
     "shell.execute_reply": "2022-04-16T14:25:43.861465Z"
    },
    "papermill": {
     "duration": 0.037592,
     "end_time": "2022-04-16T14:25:43.863784",
     "exception": false,
     "start_time": "2022-04-16T14:25:43.826192",
     "status": "completed"
    },
    "tags": []
   },
   "outputs": [],
   "source": [
    "# 損失関数と最適化関数の定義\n",
    "criterion = nn.CrossEntropyLoss()\n",
    "optimizer = optim.Adam(model.parameters(), lr=opt.lr, weight_decay=0.0001)"
   ]
  },
  {
   "cell_type": "code",
   "execution_count": 23,
   "id": "f79bd023",
   "metadata": {
    "execution": {
     "iopub.execute_input": "2022-04-16T14:25:43.924316Z",
     "iopub.status.busy": "2022-04-16T14:25:43.924103Z",
     "iopub.status.idle": "2022-04-16T14:25:43.928397Z",
     "shell.execute_reply": "2022-04-16T14:25:43.927767Z"
    },
    "papermill": {
     "duration": 0.03667,
     "end_time": "2022-04-16T14:25:43.930004",
     "exception": false,
     "start_time": "2022-04-16T14:25:43.893334",
     "status": "completed"
    },
    "tags": []
   },
   "outputs": [],
   "source": [
    "# 収束が停滞したら学習率を減衰するスケジューラー\n",
    "scheduler = torch.optim.lr_scheduler.ReduceLROnPlateau(\n",
    "    optimizer,   # オプティマイザーを指定\n",
    "    mode=opt.mode,  # 監視対象は最大値\n",
    "    factor=opt.factor,  # 学習率を減衰する割合\n",
    "    patience=opt.lr_patience, # 監視対象のエポック数\n",
    "    min_lr=opt.threshold, # 最小学習率\n",
    "    verbose=True # 学習率を減衰した場合に通知する\n",
    ")"
   ]
  },
  {
   "cell_type": "code",
   "execution_count": 24,
   "id": "34ed0335",
   "metadata": {
    "execution": {
     "iopub.execute_input": "2022-04-16T14:25:43.990383Z",
     "iopub.status.busy": "2022-04-16T14:25:43.990095Z",
     "iopub.status.idle": "2022-04-16T14:25:44.005298Z",
     "shell.execute_reply": "2022-04-16T14:25:44.004620Z"
    },
    "papermill": {
     "duration": 0.047748,
     "end_time": "2022-04-16T14:25:44.007022",
     "exception": false,
     "start_time": "2022-04-16T14:25:43.959274",
     "status": "completed"
    },
    "tags": []
   },
   "outputs": [],
   "source": [
    "# 学習履歴を保存するdictオブジェクト\n",
    "history = defaultdict(list)\n",
    "\n",
    "# 早期終了の判定を行うオブジェクトを生成\n",
    "ers = EarlyStopping(patience=opt.patience, # 監視対象回数\n",
    "                    verbose=1)  # 早期終了時にメッセージを出力\n",
    "\n",
    "# 学習モデルの定義\n",
    "def train_model(model, epochs, loss_fn, optimizer):\n",
    "    \n",
    "    # ベストスコアの初期化\n",
    "    best_loss = np.inf\n",
    "    \n",
    "    # エポックループの設定\n",
    "    for epoch in range(epochs):\n",
    "        \n",
    "        # 現在のエポック数の出力\n",
    "        print(f'Epoch: {epoch+1} / {epochs}')\n",
    "        print('--------------------------')\n",
    "        \n",
    "         # 毎エポック: 学習・検証ループの設定\n",
    "        for phase in ['train', 'val']:\n",
    "            \n",
    "            # 学習モード、検証モードの切替\n",
    "            if phase == 'train':\n",
    "                model.train()\n",
    "            else:\n",
    "                model.eval()\n",
    "            \n",
    "            # 損失値のリセット\n",
    "            epoch_loss = 0.0\n",
    "            # 正解数\n",
    "            corrects = 0\n",
    "            # 予測値リストのリセット\n",
    "            pred_list = []\n",
    "            # 正解値リストのリセット\n",
    "            true_list = []\n",
    "            \n",
    "            # dataloaderから、ミニバッチ(batch_size)単位でのデータの読み込み\n",
    "            for images, labels in dataloader[phase]:\n",
    "                \n",
    "                # 入力データ、正解ラベルをモデルと同じdeviceへ移動\n",
    "                images = images.to(device)\n",
    "                labels = labels.to(device)\n",
    "                \n",
    "                # 勾配情報の初期化\n",
    "                optimizer.zero_grad()\n",
    "                \n",
    "                # 学習時のみ勾配情報を有効に\n",
    "                with torch.set_grad_enabled(phase=='train'):\n",
    "                    \n",
    "                    # モデルによる計算\n",
    "                    outputs = model(images)\n",
    "                    # 損失値の計算\n",
    "                    loss = loss_fn(outputs, labels)\n",
    "                    # 予測ラベルの算出\n",
    "                    preds = torch.argmax(outputs, dim=1) # 予測値を出力\n",
    "                    \n",
    "                    # 学習時のみ、バックプロパゲーションとパラメータ更新\n",
    "                    if phase == 'train':\n",
    "                        \n",
    "                        # 誤差逆伝播法により勾配の算出\n",
    "                        loss.backward()\n",
    "                        # optimizerのパラメータ更新\n",
    "                        optimizer.step()\n",
    "                    \n",
    "                    # 損失値の追加\n",
    "                    epoch_loss += loss.item() * images.size(0)\n",
    "                    \n",
    "                    # 正解数の追加\n",
    "                    corrects += torch.sum(preds == labels.data)                    \n",
    "                    \n",
    "                    # 予測ラベルの追加\n",
    "                    preds = preds.to('cpu').numpy()\n",
    "                    pred_list.extend(preds)\n",
    "                    \n",
    "                    # 正解ラベルの追加\n",
    "                    labels = labels.to('cpu').numpy()\n",
    "                    true_list.extend(labels)\n",
    "            \n",
    "            # 1エポック内における損失値の平均\n",
    "            epoch_loss = epoch_loss / len(dataloader[phase].dataset)\n",
    "            \n",
    "            # 正解率の算出\n",
    "            accuracy = corrects.double() / len(dataloader[phase].dataset)\n",
    "            accuracy = accuracy.to('cpu').detach().numpy().copy()\n",
    "            \n",
    "            history[f'{phase}_loss'].append(epoch_loss)\n",
    "            history[f'{phase}_accuracy'].append(accuracy)\n",
    "            \n",
    "            # 各評価スコアの出力\n",
    "            print(f'{phase} Loss: {epoch_loss:.4f} Accuracy: {accuracy:.4f}')\n",
    "            \n",
    "            # 検証時、検証スコアとベストスコアの大小比較を行う\n",
    "            if (phase == 'val') and (epoch_loss < best_loss):\n",
    "                \n",
    "                ## 検証スコアが改善した場合のみ以下の処理を行う\n",
    "                \n",
    "                # ベストスコアの更新\n",
    "                best_loss = epoch_loss\n",
    "                # パラメータの名前を指定\n",
    "                param_name = f'/kaggle/working/{model_name}.pth'\n",
    "                # パラメータの保存\n",
    "                torch.save(model.state_dict(), param_name)\n",
    "        \n",
    "        # スケジューラー、テストデータの精度を監視する\n",
    "        scheduler.step(epoch_loss)\n",
    "\n",
    "        # 検証データの損失をEarlyStoppingオブジェクトに渡して早期終了を判定\n",
    "        if (phase == 'val') and ers(epoch_loss):\n",
    "            # 監視対象のエポックで損失が改善されなければ学習を終了\n",
    "            break"
   ]
  },
  {
   "cell_type": "code",
   "execution_count": 25,
   "id": "d4df81ab",
   "metadata": {
    "execution": {
     "iopub.execute_input": "2022-04-16T14:25:44.067182Z",
     "iopub.status.busy": "2022-04-16T14:25:44.066983Z",
     "iopub.status.idle": "2022-04-16T14:56:48.259567Z",
     "shell.execute_reply": "2022-04-16T14:56:48.258322Z"
    },
    "papermill": {
     "duration": 1864.224987,
     "end_time": "2022-04-16T14:56:48.261979",
     "exception": false,
     "start_time": "2022-04-16T14:25:44.036992",
     "status": "completed"
    },
    "tags": []
   },
   "outputs": [
    {
     "name": "stdout",
     "output_type": "stream",
     "text": [
      "Epoch: 1 / 100\n",
      "--------------------------\n",
      "train Loss: 0.5844 Accuracy: 0.7030\n",
      "val Loss: 0.5469 Accuracy: 0.7224\n",
      "Epoch: 2 / 100\n",
      "--------------------------\n",
      "train Loss: 0.5340 Accuracy: 0.7419\n",
      "val Loss: 0.5551 Accuracy: 0.7358\n",
      "Epoch: 3 / 100\n",
      "--------------------------\n",
      "train Loss: 0.5278 Accuracy: 0.7481\n",
      "val Loss: 0.5168 Accuracy: 0.7554\n",
      "Epoch: 4 / 100\n",
      "--------------------------\n",
      "train Loss: 0.4987 Accuracy: 0.7663\n",
      "val Loss: 0.4601 Accuracy: 0.7977\n",
      "Epoch: 5 / 100\n",
      "--------------------------\n",
      "train Loss: 0.4870 Accuracy: 0.7760\n",
      "val Loss: 0.4802 Accuracy: 0.7822\n",
      "Epoch: 6 / 100\n",
      "--------------------------\n",
      "train Loss: 0.4817 Accuracy: 0.7791\n",
      "val Loss: 0.4868 Accuracy: 0.7802\n",
      "Epoch: 7 / 100\n",
      "--------------------------\n",
      "train Loss: 0.4766 Accuracy: 0.7846\n",
      "val Loss: 0.4725 Accuracy: 0.7874\n",
      "Epoch: 8 / 100\n",
      "--------------------------\n",
      "train Loss: 0.4640 Accuracy: 0.7891\n",
      "val Loss: 0.4640 Accuracy: 0.7998\n",
      "Epoch     8: reducing learning rate of group 0 to 5.0000e-05.\n",
      "Epoch: 9 / 100\n",
      "--------------------------\n",
      "train Loss: 0.4396 Accuracy: 0.7977\n",
      "val Loss: 0.4648 Accuracy: 0.7792\n",
      "Epoch: 10 / 100\n",
      "--------------------------\n",
      "train Loss: 0.4321 Accuracy: 0.8063\n",
      "val Loss: 0.4456 Accuracy: 0.8019\n",
      "Epoch: 11 / 100\n",
      "--------------------------\n",
      "train Loss: 0.4250 Accuracy: 0.8039\n",
      "val Loss: 0.4566 Accuracy: 0.7915\n",
      "Epoch: 12 / 100\n",
      "--------------------------\n",
      "train Loss: 0.4134 Accuracy: 0.8266\n",
      "val Loss: 0.5000 Accuracy: 0.7719\n",
      "Epoch: 13 / 100\n",
      "--------------------------\n",
      "train Loss: 0.4134 Accuracy: 0.8104\n",
      "val Loss: 0.4803 Accuracy: 0.7761\n",
      "Epoch: 14 / 100\n",
      "--------------------------\n",
      "train Loss: 0.4080 Accuracy: 0.8190\n",
      "val Loss: 0.4904 Accuracy: 0.7812\n",
      "Epoch    14: reducing learning rate of group 0 to 2.5000e-05.\n",
      "Epoch: 15 / 100\n",
      "--------------------------\n",
      "train Loss: 0.3905 Accuracy: 0.8324\n",
      "val Loss: 0.4657 Accuracy: 0.7988\n",
      "Epoch: 16 / 100\n",
      "--------------------------\n",
      "train Loss: 0.3828 Accuracy: 0.8359\n",
      "val Loss: 0.4743 Accuracy: 0.8029\n",
      "Epoch: 17 / 100\n",
      "--------------------------\n",
      "train Loss: 0.3743 Accuracy: 0.8317\n",
      "val Loss: 0.4635 Accuracy: 0.8080\n",
      "Epoch: 18 / 100\n",
      "--------------------------\n",
      "train Loss: 0.3659 Accuracy: 0.8386\n",
      "val Loss: 0.4767 Accuracy: 0.7915\n",
      "Epoch: 19 / 100\n",
      "--------------------------\n",
      "train Loss: 0.3668 Accuracy: 0.8396\n",
      "val Loss: 0.4670 Accuracy: 0.8050\n",
      "Epoch: 20 / 100\n",
      "--------------------------\n",
      "train Loss: 0.3621 Accuracy: 0.8410\n",
      "val Loss: 0.4577 Accuracy: 0.8070\n",
      "Epoch    20: reducing learning rate of group 0 to 1.2500e-05.\n",
      "Epoch: 21 / 100\n",
      "--------------------------\n",
      "train Loss: 0.3559 Accuracy: 0.8458\n",
      "val Loss: 0.4569 Accuracy: 0.8132\n",
      "Epoch: 22 / 100\n",
      "--------------------------\n",
      "train Loss: 0.3499 Accuracy: 0.8493\n",
      "val Loss: 0.4718 Accuracy: 0.8070\n",
      "Epoch: 23 / 100\n",
      "--------------------------\n",
      "train Loss: 0.3468 Accuracy: 0.8507\n",
      "val Loss: 0.4643 Accuracy: 0.8111\n",
      "Epoch: 24 / 100\n",
      "--------------------------\n",
      "train Loss: 0.3511 Accuracy: 0.8421\n",
      "val Loss: 0.4797 Accuracy: 0.8050\n",
      "Epoch: 25 / 100\n",
      "--------------------------\n",
      "train Loss: 0.3431 Accuracy: 0.8503\n",
      "val Loss: 0.4847 Accuracy: 0.8019\n",
      "Epoch: 26 / 100\n",
      "--------------------------\n",
      "train Loss: 0.3321 Accuracy: 0.8548\n",
      "val Loss: 0.4817 Accuracy: 0.8122\n",
      "Epoch    26: reducing learning rate of group 0 to 1.0000e-05.\n",
      "Epoch: 27 / 100\n",
      "--------------------------\n",
      "train Loss: 0.3333 Accuracy: 0.8562\n",
      "val Loss: 0.4726 Accuracy: 0.8142\n",
      "Epoch: 28 / 100\n",
      "--------------------------\n",
      "train Loss: 0.3321 Accuracy: 0.8617\n",
      "val Loss: 0.4887 Accuracy: 0.8019\n",
      "Epoch: 29 / 100\n",
      "--------------------------\n",
      "train Loss: 0.3306 Accuracy: 0.8651\n",
      "val Loss: 0.4762 Accuracy: 0.8070\n",
      "Epoch: 30 / 100\n",
      "--------------------------\n",
      "train Loss: 0.3277 Accuracy: 0.8599\n",
      "val Loss: 0.4989 Accuracy: 0.8039\n",
      "Epoch: 31 / 100\n",
      "--------------------------\n",
      "train Loss: 0.3308 Accuracy: 0.8493\n",
      "val Loss: 0.4771 Accuracy: 0.8060\n",
      "early stopping\n"
     ]
    }
   ],
   "source": [
    "# モデルの学習と推論の実行\n",
    "train_model(model, opt.epochs, criterion, optimizer)"
   ]
  },
  {
   "cell_type": "code",
   "execution_count": 26,
   "id": "4e9f6b79",
   "metadata": {
    "execution": {
     "iopub.execute_input": "2022-04-16T14:56:48.362238Z",
     "iopub.status.busy": "2022-04-16T14:56:48.361599Z",
     "iopub.status.idle": "2022-04-16T14:56:48.725125Z",
     "shell.execute_reply": "2022-04-16T14:56:48.724487Z"
    },
    "papermill": {
     "duration": 0.415427,
     "end_time": "2022-04-16T14:56:48.726924",
     "exception": false,
     "start_time": "2022-04-16T14:56:48.311497",
     "status": "completed"
    },
    "tags": []
   },
   "outputs": [
    {
     "data": {
      "image/png": "[encoded data removed]",
      "text/plain": [
       "<Figure size 432x288 with 1 Axes>"
      ]
     },
     "metadata": {
      "needs_background": "light"
     },
     "output_type": "display_data"
    },
    {
     "data": {
      "image/png": "[encoded data removed]",
      "text/plain": [
       "<Figure size 432x288 with 1 Axes>"
      ]
     },
     "metadata": {
      "needs_background": "light"
     },
     "output_type": "display_data"
    }
   ],
   "source": [
    "# 正解率の推移をプロット\n",
    "plt.plot(history['train_accuracy'])\n",
    "plt.plot(history['val_accuracy'])\n",
    "plt.title('Accuracy')\n",
    "plt.legend(['train', 'val'], loc='upper left')\n",
    "plt.show()\n",
    "\n",
    "# ロスの推移をプロット\n",
    "plt.plot(history['train_loss'])\n",
    "plt.plot(history['val_loss'])\n",
    "plt.title('Loss')\n",
    "plt.legend(['train', 'val'], loc='upper left')\n",
    "plt.show()"
   ]
  }
 ],
 "metadata": {
  "kernelspec": {
   "display_name": "Python 3",
   "language": "python",
   "name": "python3"
  },
  "language_info": {
   "codemirror_mode": {
    "name": "ipython",
    "version": 3
   },
   "file_extension": ".py",
   "mimetype": "text/x-python",
   "name": "python",
   "nbconvert_exporter": "python",
   "pygments_lexer": "ipython3",
   "version": "3.7.12"
  },
  "papermill": {
   "default_parameters": {},
   "duration": 1888.140636,
   "end_time": "2022-04-16T14:56:50.102906",
   "environment_variables": {},
   "exception": null,
   "input_path": "__notebook__.ipynb",
   "output_path": "__notebook__.ipynb",
   "parameters": {},
   "start_time": "2022-04-16T14:25:21.962270",
   "version": "2.3.4"
  },
  "widgets": {
   "application/vnd.jupyter.widget-state+json": {
    "state": {
     "002bf48760554e45bbadb767a59d4835": {
      "model_module": "@jupyter-widgets/base",
      "model_module_version": "1.2.0",
      "model_name": "LayoutModel",
      "state": {
       "_model_module": "@jupyter-widgets/base",
       "_model_module_version": "1.2.0",
       "_model_name": "LayoutModel",
       "_view_count": null,
       "_view_module": "@jupyter-widgets/base",
       "_view_module_version": "1.2.0",
       "_view_name": "LayoutView",
       "align_content": null,
       "align_items": null,
       "align_self": null,
       "border": null,
       "bottom": null,
       "display": null,
       "flex": null,
       "flex_flow": null,
       "grid_area": null,
       "grid_auto_columns": null,
       "grid_auto_flow": null,
       "grid_auto_rows": null,
       "grid_column": null,
       "grid_gap": null,
       "grid_row": null,
       "grid_template_areas": null,
       "grid_template_columns": null,
       "grid_template_rows": null,
       "height": null,
       "justify_content": null,
       "justify_items": null,
       "left": null,
       "margin": null,
       "max_height": null,
       "max_width": null,
       "min_height": null,
       "min_width": null,
       "object_fit": null,
       "object_position": null,
       "order": null,
       "overflow": null,
       "overflow_x": null,
       "overflow_y": null,
       "padding": null,
       "right": null,
       "top": null,
       "visibility": null,
       "width": null
      }
     },
     "04a4731085b04934a74564315e267969": {
      "model_module": "@jupyter-widgets/base",
      "model_module_version": "1.2.0",
      "model_name": "LayoutModel",
      "state": {
       "_model_module": "@jupyter-widgets/base",
       "_model_module_version": "1.2.0",
       "_model_name": "LayoutModel",
       "_view_count": null,
       "_view_module": "@jupyter-widgets/base",
       "_view_module_version": "1.2.0",
       "_view_name": "LayoutView",
       "align_content": null,
       "align_items": null,
       "align_self": null,
       "border": null,
       "bottom": null,
       "display": null,
       "flex": null,
       "flex_flow": null,
       "grid_area": null,
       "grid_auto_columns": null,
       "grid_auto_flow": null,
       "grid_auto_rows": null,
       "grid_column": null,
       "grid_gap": null,
       "grid_row": null,
       "grid_template_areas": null,
       "grid_template_columns": null,
       "grid_template_rows": null,
       "height": null,
       "justify_content": null,
       "justify_items": null,
       "left": null,
       "margin": null,
       "max_height": null,
       "max_width": null,
       "min_height": null,
       "min_width": null,
       "object_fit": null,
       "object_position": null,
       "order": null,
       "overflow": null,
       "overflow_x": null,
       "overflow_y": null,
       "padding": null,
       "right": null,
       "top": null,
       "visibility": null,
       "width": null
      }
     },
     "0a7880626008463f9dd77ea92d12f3a2": {
      "model_module": "@jupyter-widgets/controls",
      "model_module_version": "1.5.0",
      "model_name": "HTMLModel",
      "state": {
       "_dom_classes": [],
       "_model_module": "@jupyter-widgets/controls",
       "_model_module_version": "1.5.0",
       "_model_name": "HTMLModel",
       "_view_count": null,
       "_view_module": "@jupyter-widgets/controls",
       "_view_module_version": "1.5.0",
       "_view_name": "HTMLView",
       "description": "",
       "description_tooltip": null,
       "layout": "IPY_MODEL_002bf48760554e45bbadb767a59d4835",
       "placeholder": "​",
       "style": "IPY_MODEL_9bbbe60c35a440a88ea43520fd06f2ca",
       "value": "100%"
      }
     },
     "1e9b54965c5a4596b36e757c0f9b565c": {
      "model_module": "@jupyter-widgets/controls",
      "model_module_version": "1.5.0",
      "model_name": "HBoxModel",
      "state": {
       "_dom_classes": [],
       "_model_module": "@jupyter-widgets/controls",
       "_model_module_version": "1.5.0",
       "_model_name": "HBoxModel",
       "_view_count": null,
       "_view_module": "@jupyter-widgets/controls",
       "_view_module_version": "1.5.0",
       "_view_name": "HBoxView",
       "box_style": "",
       "children": [
        "IPY_MODEL_0a7880626008463f9dd77ea92d12f3a2",
        "IPY_MODEL_c45f1a8ce6e44becb0bf948c8cf1cee1",
        "IPY_MODEL_8938ee3448844966bbcc9d803b645782"
       ],
       "layout": "IPY_MODEL_eaf5aa71e3754bb7b8d1b9e11e4f55cb"
      }
     },
     "4176065720134bd5a8a4511960b130a6": {
      "model_module": "@jupyter-widgets/controls",
      "model_module_version": "1.5.0",
      "model_name": "ProgressStyleModel",
      "state": {
       "_model_module": "@jupyter-widgets/controls",
       "_model_module_version": "1.5.0",
       "_model_name": "ProgressStyleModel",
       "_view_count": null,
       "_view_module": "@jupyter-widgets/base",
       "_view_module_version": "1.2.0",
       "_view_name": "StyleView",
       "bar_color": null,
       "description_width": ""
      }
     },
     "88b7789523c44f38912e0857a0fe1eaa": {
      "model_module": "@jupyter-widgets/controls",
      "model_module_version": "1.5.0",
      "model_name": "DescriptionStyleModel",
      "state": {
       "_model_module": "@jupyter-widgets/controls",
       "_model_module_version": "1.5.0",
       "_model_name": "DescriptionStyleModel",
       "_view_count": null,
       "_view_module": "@jupyter-widgets/base",
       "_view_module_version": "1.2.0",
       "_view_name": "StyleView",
       "description_width": ""
      }
     },
     "8938ee3448844966bbcc9d803b645782": {
      "model_module": "@jupyter-widgets/controls",
      "model_module_version": "1.5.0",
      "model_name": "HTMLModel",
      "state": {
       "_dom_classes": [],
       "_model_module": "@jupyter-widgets/controls",
       "_model_module_version": "1.5.0",
       "_model_name": "HTMLModel",
       "_view_count": null,
       "_view_module": "@jupyter-widgets/controls",
       "_view_module_version": "1.5.0",
       "_view_name": "HTMLView",
       "description": "",
       "description_tooltip": null,
       "layout": "IPY_MODEL_a37ce10412f34e8d9df582255ca84139",
       "placeholder": "​",
       "style": "IPY_MODEL_88b7789523c44f38912e0857a0fe1eaa",
       "value": " 21.1M/21.1M [00:03&lt;00:00, 9.56MB/s]"
      }
     },
     "9bbbe60c35a440a88ea43520fd06f2ca": {
      "model_module": "@jupyter-widgets/controls",
      "model_module_version": "1.5.0",
      "model_name": "DescriptionStyleModel",
      "state": {
       "_model_module": "@jupyter-widgets/controls",
       "_model_module_version": "1.5.0",
       "_model_name": "DescriptionStyleModel",
       "_view_count": null,
       "_view_module": "@jupyter-widgets/base",
       "_view_module_version": "1.2.0",
       "_view_name": "StyleView",
       "description_width": ""
      }
     },
     "a37ce10412f34e8d9df582255ca84139": {
      "model_module": "@jupyter-widgets/base",
      "model_module_version": "1.2.0",
      "model_name": "LayoutModel",
      "state": {
       "_model_module": "@jupyter-widgets/base",
       "_model_module_version": "1.2.0",
       "_model_name": "LayoutModel",
       "_view_count": null,
       "_view_module": "@jupyter-widgets/base",
       "_view_module_version": "1.2.0",
       "_view_name": "LayoutView",
       "align_content": null,
       "align_items": null,
       "align_self": null,
       "border": null,
       "bottom": null,
       "display": null,
       "flex": null,
       "flex_flow": null,
       "grid_area": null,
       "grid_auto_columns": null,
       "grid_auto_flow": null,
       "grid_auto_rows": null,
       "grid_column": null,
       "grid_gap": null,
       "grid_row": null,
       "grid_template_areas": null,
       "grid_template_columns": null,
       "grid_template_rows": null,
       "height": null,
       "justify_content": null,
       "justify_items": null,
       "left": null,
       "margin": null,
       "max_height": null,
       "max_width": null,
       "min_height": null,
       "min_width": null,
       "object_fit": null,
       "object_position": null,
       "order": null,
       "overflow": null,
       "overflow_x": null,
       "overflow_y": null,
       "padding": null,
       "right": null,
       "top": null,
       "visibility": null,
       "width": null
      }
     },
     "c45f1a8ce6e44becb0bf948c8cf1cee1": {
      "model_module": "@jupyter-widgets/controls",
      "model_module_version": "1.5.0",
      "model_name": "FloatProgressModel",
      "state": {
       "_dom_classes": [],
       "_model_module": "@jupyter-widgets/controls",
       "_model_module_version": "1.5.0",
       "_model_name": "FloatProgressModel",
       "_view_count": null,
       "_view_module": "@jupyter-widgets/controls",
       "_view_module_version": "1.5.0",
       "_view_name": "ProgressView",
       "bar_style": "success",
       "description": "",
       "description_tooltip": null,
       "layout": "IPY_MODEL_04a4731085b04934a74564315e267969",
       "max": 22139423.0,
       "min": 0.0,
       "orientation": "horizontal",
       "style": "IPY_MODEL_4176065720134bd5a8a4511960b130a6",
       "value": 22139423.0
      }
     },
     "eaf5aa71e3754bb7b8d1b9e11e4f55cb": {
      "model_module": "@jupyter-widgets/base",
      "model_module_version": "1.2.0",
      "model_name": "LayoutModel",
      "state": {
       "_model_module": "@jupyter-widgets/base",
       "_model_module_version": "1.2.0",
       "_model_name": "LayoutModel",
       "_view_count": null,
       "_view_module": "@jupyter-widgets/base",
       "_view_module_version": "1.2.0",
       "_view_name": "LayoutView",
       "align_content": null,
       "align_items": null,
       "align_self": null,
       "border": null,
       "bottom": null,
       "display": null,
       "flex": null,
       "flex_flow": null,
       "grid_area": null,
       "grid_auto_columns": null,
       "grid_auto_flow": null,
       "grid_auto_rows": null,
       "grid_column": null,
       "grid_gap": null,
       "grid_row": null,
       "grid_template_areas": null,
       "grid_template_columns": null,
       "grid_template_rows": null,
       "height": null,
       "justify_content": null,
       "justify_items": null,
       "left": null,
       "margin": null,
       "max_height": null,
       "max_width": null,
       "min_height": null,
       "min_width": null,
       "object_fit": null,
       "object_position": null,
       "order": null,
       "overflow": null,
       "overflow_x": null,
       "overflow_y": null,
       "padding": null,
       "right": null,
       "top": null,
       "visibility": null,
       "width": null
      }
     }
    },
    "version_major": 2,
    "version_minor": 0
   }
  }
 },
 "nbformat": 4,
 "nbformat_minor": 5
}
