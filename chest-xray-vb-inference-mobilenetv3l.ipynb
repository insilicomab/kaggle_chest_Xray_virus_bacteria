{
 "cells": [
  {
   "cell_type": "markdown",
   "id": "05a85e25",
   "metadata": {
    "papermill": {
     "duration": 0.039644,
     "end_time": "2022-04-16T15:24:37.133016",
     "exception": false,
     "start_time": "2022-04-16T15:24:37.093372",
     "status": "completed"
    },
    "tags": []
   },
   "source": [
    "# 事前準備"
   ]
  },
  {
   "cell_type": "code",
   "execution_count": 1,
   "id": "bb38df70",
   "metadata": {
    "execution": {
     "iopub.execute_input": "2022-04-16T15:24:37.213256Z",
     "iopub.status.busy": "2022-04-16T15:24:37.212507Z",
     "iopub.status.idle": "2022-04-16T15:24:40.313685Z",
     "shell.execute_reply": "2022-04-16T15:24:40.312484Z"
    },
    "papermill": {
     "duration": 3.146034,
     "end_time": "2022-04-16T15:24:40.317050",
     "exception": false,
     "start_time": "2022-04-16T15:24:37.171016",
     "status": "completed"
    },
    "tags": []
   },
   "outputs": [],
   "source": [
    "# ライブラリのインポート\n",
    "import os\n",
    "import re\n",
    "import random\n",
    "from glob import glob\n",
    "from warnings import filterwarnings\n",
    "\n",
    "import argparse\n",
    "\n",
    "import pandas as pd\n",
    "import numpy as np\n",
    "import matplotlib.pyplot as plt\n",
    "import seaborn as sns\n",
    "\n",
    "from sklearn.model_selection import train_test_split\n",
    "from sklearn.metrics import confusion_matrix\n",
    "from sklearn.metrics import accuracy_score, precision_score, recall_score, f1_score\n",
    "\n",
    "import cv2\n",
    "from PIL import Image\n",
    "\n",
    "import torch\n",
    "from torchvision import datasets, transforms, models\n",
    "from torch.utils.data import Dataset, DataLoader\n",
    "from torch import nn, optim\n",
    "\n",
    "from collections import defaultdict\n",
    "\n",
    "filterwarnings('ignore')   # warningをオフにする"
   ]
  },
  {
   "cell_type": "code",
   "execution_count": 2,
   "id": "af2f06da",
   "metadata": {
    "execution": {
     "iopub.execute_input": "2022-04-16T15:24:40.395336Z",
     "iopub.status.busy": "2022-04-16T15:24:40.395013Z",
     "iopub.status.idle": "2022-04-16T15:24:40.402762Z",
     "shell.execute_reply": "2022-04-16T15:24:40.401982Z"
    },
    "papermill": {
     "duration": 0.049901,
     "end_time": "2022-04-16T15:24:40.404956",
     "exception": false,
     "start_time": "2022-04-16T15:24:40.355055",
     "status": "completed"
    },
    "tags": []
   },
   "outputs": [],
   "source": [
    "# ランダムシードの設定\n",
    "torch.manual_seed(1234)\n",
    "torch.cuda.manual_seed(1234)\n",
    "np.random.seed(1234)\n",
    "random.seed(1234)"
   ]
  },
  {
   "cell_type": "code",
   "execution_count": 3,
   "id": "04dcb4c7",
   "metadata": {
    "execution": {
     "iopub.execute_input": "2022-04-16T15:24:40.487265Z",
     "iopub.status.busy": "2022-04-16T15:24:40.486776Z",
     "iopub.status.idle": "2022-04-16T15:24:40.492308Z",
     "shell.execute_reply": "2022-04-16T15:24:40.491514Z"
    },
    "papermill": {
     "duration": 0.048682,
     "end_time": "2022-04-16T15:24:40.494612",
     "exception": false,
     "start_time": "2022-04-16T15:24:40.445930",
     "status": "completed"
    },
    "tags": []
   },
   "outputs": [
    {
     "name": "stdout",
     "output_type": "stream",
     "text": [
      "デバイス：cpu\n"
     ]
    }
   ],
   "source": [
    "# デバイスの設定\n",
    "device = 'cuda' if torch.cuda.is_available() else 'cpu'\n",
    "kwargs = {'num_workers': 1, 'pin_memory': True} if torch.cuda.is_available() else {} # GPUが使える場合、DataLoaderでのミニバッチの取り出しを高速化\n",
    "print(f'デバイス：{device}')"
   ]
  },
  {
   "cell_type": "code",
   "execution_count": 4,
   "id": "c9be8231",
   "metadata": {
    "execution": {
     "iopub.execute_input": "2022-04-16T15:24:40.575331Z",
     "iopub.status.busy": "2022-04-16T15:24:40.574757Z",
     "iopub.status.idle": "2022-04-16T15:24:40.581236Z",
     "shell.execute_reply": "2022-04-16T15:24:40.580570Z"
    },
    "papermill": {
     "duration": 0.04885,
     "end_time": "2022-04-16T15:24:40.583247",
     "exception": false,
     "start_time": "2022-04-16T15:24:40.534397",
     "status": "completed"
    },
    "tags": []
   },
   "outputs": [
    {
     "name": "stdout",
     "output_type": "stream",
     "text": [
      "Namespace(image_size=224, num_classes=2)\n"
     ]
    }
   ],
   "source": [
    "# ハイパーパラメータの設定\n",
    "parser = argparse.ArgumentParser()\n",
    "parser.add_argument('--image_size', type=int, default=224)\n",
    "parser.add_argument('--num_classes', type=int, default=2)\n",
    "opt = parser.parse_args(args=[])\n",
    "print(opt)"
   ]
  },
  {
   "cell_type": "code",
   "execution_count": 5,
   "id": "f99180fc",
   "metadata": {
    "execution": {
     "iopub.execute_input": "2022-04-16T15:24:40.663081Z",
     "iopub.status.busy": "2022-04-16T15:24:40.662746Z",
     "iopub.status.idle": "2022-04-16T15:24:40.667166Z",
     "shell.execute_reply": "2022-04-16T15:24:40.666336Z"
    },
    "papermill": {
     "duration": 0.046863,
     "end_time": "2022-04-16T15:24:40.668957",
     "exception": false,
     "start_time": "2022-04-16T15:24:40.622094",
     "status": "completed"
    },
    "tags": []
   },
   "outputs": [],
   "source": [
    "# PNEUMONIAのtestデータのディレクトリ\n",
    "test_pneumonia_dir = '/kaggle/input/chest-xray-pneumonia/chest_xray/chest_xray/test/PNEUMONIA/'"
   ]
  },
  {
   "cell_type": "markdown",
   "id": "59ce155d",
   "metadata": {
    "papermill": {
     "duration": 0.038271,
     "end_time": "2022-04-16T15:24:40.746158",
     "exception": false,
     "start_time": "2022-04-16T15:24:40.707887",
     "status": "completed"
    },
    "tags": []
   },
   "source": [
    "# 学習済みパラメータの読み込み"
   ]
  },
  {
   "cell_type": "code",
   "execution_count": 6,
   "id": "b423a2ad",
   "metadata": {
    "execution": {
     "iopub.execute_input": "2022-04-16T15:24:40.828031Z",
     "iopub.status.busy": "2022-04-16T15:24:40.827437Z",
     "iopub.status.idle": "2022-04-16T15:24:40.831170Z",
     "shell.execute_reply": "2022-04-16T15:24:40.830502Z"
    },
    "papermill": {
     "duration": 0.046111,
     "end_time": "2022-04-16T15:24:40.833293",
     "exception": false,
     "start_time": "2022-04-16T15:24:40.787182",
     "status": "completed"
    },
    "tags": []
   },
   "outputs": [],
   "source": [
    "# モデルのパス\n",
    "model_path = '../input/chest-xray-vb-training-mobilenetv3l/mobilenet_v3_large_virus_bacteria.pth'"
   ]
  },
  {
   "cell_type": "code",
   "execution_count": 7,
   "id": "54b0d347",
   "metadata": {
    "execution": {
     "iopub.execute_input": "2022-04-16T15:24:40.915515Z",
     "iopub.status.busy": "2022-04-16T15:24:40.914930Z",
     "iopub.status.idle": "2022-04-16T15:24:41.092468Z",
     "shell.execute_reply": "2022-04-16T15:24:41.091631Z"
    },
    "papermill": {
     "duration": 0.222041,
     "end_time": "2022-04-16T15:24:41.095274",
     "exception": false,
     "start_time": "2022-04-16T15:24:40.873233",
     "status": "completed"
    },
    "tags": []
   },
   "outputs": [],
   "source": [
    "model = models.mobilenet_v3_large()\n",
    "fc_in_features = model.classifier[0].out_features # 最終レイヤー関数の次元数\n",
    "model.classifier[3] = nn.Linear(fc_in_features, opt.num_classes) # 最終レイヤー関数の付け替え"
   ]
  },
  {
   "cell_type": "code",
   "execution_count": 8,
   "id": "cfaab817",
   "metadata": {
    "execution": {
     "iopub.execute_input": "2022-04-16T15:24:41.175040Z",
     "iopub.status.busy": "2022-04-16T15:24:41.174225Z",
     "iopub.status.idle": "2022-04-16T15:24:41.458771Z",
     "shell.execute_reply": "2022-04-16T15:24:41.457979Z"
    },
    "papermill": {
     "duration": 0.327582,
     "end_time": "2022-04-16T15:24:41.461744",
     "exception": false,
     "start_time": "2022-04-16T15:24:41.134162",
     "status": "completed"
    },
    "tags": []
   },
   "outputs": [
    {
     "data": {
      "text/plain": [
       "<All keys matched successfully>"
      ]
     },
     "execution_count": 8,
     "metadata": {},
     "output_type": "execute_result"
    }
   ],
   "source": [
    "# 学習済みモデルの読み込み\n",
    "model.load_state_dict(torch.load(model_path, map_location=torch.device('cpu'))) # 学習済みモデルの読み込み"
   ]
  },
  {
   "cell_type": "code",
   "execution_count": 9,
   "id": "f51ef073",
   "metadata": {
    "execution": {
     "iopub.execute_input": "2022-04-16T15:24:41.546872Z",
     "iopub.status.busy": "2022-04-16T15:24:41.545935Z",
     "iopub.status.idle": "2022-04-16T15:24:41.563903Z",
     "shell.execute_reply": "2022-04-16T15:24:41.562719Z"
    },
    "papermill": {
     "duration": 0.063627,
     "end_time": "2022-04-16T15:24:41.566713",
     "exception": false,
     "start_time": "2022-04-16T15:24:41.503086",
     "status": "completed"
    },
    "tags": []
   },
   "outputs": [
    {
     "data": {
      "text/plain": [
       "MobileNetV3(\n",
       "  (features): Sequential(\n",
       "    (0): ConvBNActivation(\n",
       "      (0): Conv2d(3, 16, kernel_size=(3, 3), stride=(2, 2), padding=(1, 1), bias=False)\n",
       "      (1): BatchNorm2d(16, eps=0.001, momentum=0.01, affine=True, track_running_stats=True)\n",
       "      (2): Hardswish()\n",
       "    )\n",
       "    (1): InvertedResidual(\n",
       "      (block): Sequential(\n",
       "        (0): ConvBNActivation(\n",
       "          (0): Conv2d(16, 16, kernel_size=(3, 3), stride=(1, 1), padding=(1, 1), groups=16, bias=False)\n",
       "          (1): BatchNorm2d(16, eps=0.001, momentum=0.01, affine=True, track_running_stats=True)\n",
       "          (2): ReLU(inplace=True)\n",
       "        )\n",
       "        (1): ConvBNActivation(\n",
       "          (0): Conv2d(16, 16, kernel_size=(1, 1), stride=(1, 1), bias=False)\n",
       "          (1): BatchNorm2d(16, eps=0.001, momentum=0.01, affine=True, track_running_stats=True)\n",
       "          (2): Identity()\n",
       "        )\n",
       "      )\n",
       "    )\n",
       "    (2): InvertedResidual(\n",
       "      (block): Sequential(\n",
       "        (0): ConvBNActivation(\n",
       "          (0): Conv2d(16, 64, kernel_size=(1, 1), stride=(1, 1), bias=False)\n",
       "          (1): BatchNorm2d(64, eps=0.001, momentum=0.01, affine=True, track_running_stats=True)\n",
       "          (2): ReLU(inplace=True)\n",
       "        )\n",
       "        (1): ConvBNActivation(\n",
       "          (0): Conv2d(64, 64, kernel_size=(3, 3), stride=(2, 2), padding=(1, 1), groups=64, bias=False)\n",
       "          (1): BatchNorm2d(64, eps=0.001, momentum=0.01, affine=True, track_running_stats=True)\n",
       "          (2): ReLU(inplace=True)\n",
       "        )\n",
       "        (2): ConvBNActivation(\n",
       "          (0): Conv2d(64, 24, kernel_size=(1, 1), stride=(1, 1), bias=False)\n",
       "          (1): BatchNorm2d(24, eps=0.001, momentum=0.01, affine=True, track_running_stats=True)\n",
       "          (2): Identity()\n",
       "        )\n",
       "      )\n",
       "    )\n",
       "    (3): InvertedResidual(\n",
       "      (block): Sequential(\n",
       "        (0): ConvBNActivation(\n",
       "          (0): Conv2d(24, 72, kernel_size=(1, 1), stride=(1, 1), bias=False)\n",
       "          (1): BatchNorm2d(72, eps=0.001, momentum=0.01, affine=True, track_running_stats=True)\n",
       "          (2): ReLU(inplace=True)\n",
       "        )\n",
       "        (1): ConvBNActivation(\n",
       "          (0): Conv2d(72, 72, kernel_size=(3, 3), stride=(1, 1), padding=(1, 1), groups=72, bias=False)\n",
       "          (1): BatchNorm2d(72, eps=0.001, momentum=0.01, affine=True, track_running_stats=True)\n",
       "          (2): ReLU(inplace=True)\n",
       "        )\n",
       "        (2): ConvBNActivation(\n",
       "          (0): Conv2d(72, 24, kernel_size=(1, 1), stride=(1, 1), bias=False)\n",
       "          (1): BatchNorm2d(24, eps=0.001, momentum=0.01, affine=True, track_running_stats=True)\n",
       "          (2): Identity()\n",
       "        )\n",
       "      )\n",
       "    )\n",
       "    (4): InvertedResidual(\n",
       "      (block): Sequential(\n",
       "        (0): ConvBNActivation(\n",
       "          (0): Conv2d(24, 72, kernel_size=(1, 1), stride=(1, 1), bias=False)\n",
       "          (1): BatchNorm2d(72, eps=0.001, momentum=0.01, affine=True, track_running_stats=True)\n",
       "          (2): ReLU(inplace=True)\n",
       "        )\n",
       "        (1): ConvBNActivation(\n",
       "          (0): Conv2d(72, 72, kernel_size=(5, 5), stride=(2, 2), padding=(2, 2), groups=72, bias=False)\n",
       "          (1): BatchNorm2d(72, eps=0.001, momentum=0.01, affine=True, track_running_stats=True)\n",
       "          (2): ReLU(inplace=True)\n",
       "        )\n",
       "        (2): SqueezeExcitation(\n",
       "          (fc1): Conv2d(72, 24, kernel_size=(1, 1), stride=(1, 1))\n",
       "          (relu): ReLU(inplace=True)\n",
       "          (fc2): Conv2d(24, 72, kernel_size=(1, 1), stride=(1, 1))\n",
       "        )\n",
       "        (3): ConvBNActivation(\n",
       "          (0): Conv2d(72, 40, kernel_size=(1, 1), stride=(1, 1), bias=False)\n",
       "          (1): BatchNorm2d(40, eps=0.001, momentum=0.01, affine=True, track_running_stats=True)\n",
       "          (2): Identity()\n",
       "        )\n",
       "      )\n",
       "    )\n",
       "    (5): InvertedResidual(\n",
       "      (block): Sequential(\n",
       "        (0): ConvBNActivation(\n",
       "          (0): Conv2d(40, 120, kernel_size=(1, 1), stride=(1, 1), bias=False)\n",
       "          (1): BatchNorm2d(120, eps=0.001, momentum=0.01, affine=True, track_running_stats=True)\n",
       "          (2): ReLU(inplace=True)\n",
       "        )\n",
       "        (1): ConvBNActivation(\n",
       "          (0): Conv2d(120, 120, kernel_size=(5, 5), stride=(1, 1), padding=(2, 2), groups=120, bias=False)\n",
       "          (1): BatchNorm2d(120, eps=0.001, momentum=0.01, affine=True, track_running_stats=True)\n",
       "          (2): ReLU(inplace=True)\n",
       "        )\n",
       "        (2): SqueezeExcitation(\n",
       "          (fc1): Conv2d(120, 32, kernel_size=(1, 1), stride=(1, 1))\n",
       "          (relu): ReLU(inplace=True)\n",
       "          (fc2): Conv2d(32, 120, kernel_size=(1, 1), stride=(1, 1))\n",
       "        )\n",
       "        (3): ConvBNActivation(\n",
       "          (0): Conv2d(120, 40, kernel_size=(1, 1), stride=(1, 1), bias=False)\n",
       "          (1): BatchNorm2d(40, eps=0.001, momentum=0.01, affine=True, track_running_stats=True)\n",
       "          (2): Identity()\n",
       "        )\n",
       "      )\n",
       "    )\n",
       "    (6): InvertedResidual(\n",
       "      (block): Sequential(\n",
       "        (0): ConvBNActivation(\n",
       "          (0): Conv2d(40, 120, kernel_size=(1, 1), stride=(1, 1), bias=False)\n",
       "          (1): BatchNorm2d(120, eps=0.001, momentum=0.01, affine=True, track_running_stats=True)\n",
       "          (2): ReLU(inplace=True)\n",
       "        )\n",
       "        (1): ConvBNActivation(\n",
       "          (0): Conv2d(120, 120, kernel_size=(5, 5), stride=(1, 1), padding=(2, 2), groups=120, bias=False)\n",
       "          (1): BatchNorm2d(120, eps=0.001, momentum=0.01, affine=True, track_running_stats=True)\n",
       "          (2): ReLU(inplace=True)\n",
       "        )\n",
       "        (2): SqueezeExcitation(\n",
       "          (fc1): Conv2d(120, 32, kernel_size=(1, 1), stride=(1, 1))\n",
       "          (relu): ReLU(inplace=True)\n",
       "          (fc2): Conv2d(32, 120, kernel_size=(1, 1), stride=(1, 1))\n",
       "        )\n",
       "        (3): ConvBNActivation(\n",
       "          (0): Conv2d(120, 40, kernel_size=(1, 1), stride=(1, 1), bias=False)\n",
       "          (1): BatchNorm2d(40, eps=0.001, momentum=0.01, affine=True, track_running_stats=True)\n",
       "          (2): Identity()\n",
       "        )\n",
       "      )\n",
       "    )\n",
       "    (7): InvertedResidual(\n",
       "      (block): Sequential(\n",
       "        (0): ConvBNActivation(\n",
       "          (0): Conv2d(40, 240, kernel_size=(1, 1), stride=(1, 1), bias=False)\n",
       "          (1): BatchNorm2d(240, eps=0.001, momentum=0.01, affine=True, track_running_stats=True)\n",
       "          (2): Hardswish()\n",
       "        )\n",
       "        (1): ConvBNActivation(\n",
       "          (0): Conv2d(240, 240, kernel_size=(3, 3), stride=(2, 2), padding=(1, 1), groups=240, bias=False)\n",
       "          (1): BatchNorm2d(240, eps=0.001, momentum=0.01, affine=True, track_running_stats=True)\n",
       "          (2): Hardswish()\n",
       "        )\n",
       "        (2): ConvBNActivation(\n",
       "          (0): Conv2d(240, 80, kernel_size=(1, 1), stride=(1, 1), bias=False)\n",
       "          (1): BatchNorm2d(80, eps=0.001, momentum=0.01, affine=True, track_running_stats=True)\n",
       "          (2): Identity()\n",
       "        )\n",
       "      )\n",
       "    )\n",
       "    (8): InvertedResidual(\n",
       "      (block): Sequential(\n",
       "        (0): ConvBNActivation(\n",
       "          (0): Conv2d(80, 200, kernel_size=(1, 1), stride=(1, 1), bias=False)\n",
       "          (1): BatchNorm2d(200, eps=0.001, momentum=0.01, affine=True, track_running_stats=True)\n",
       "          (2): Hardswish()\n",
       "        )\n",
       "        (1): ConvBNActivation(\n",
       "          (0): Conv2d(200, 200, kernel_size=(3, 3), stride=(1, 1), padding=(1, 1), groups=200, bias=False)\n",
       "          (1): BatchNorm2d(200, eps=0.001, momentum=0.01, affine=True, track_running_stats=True)\n",
       "          (2): Hardswish()\n",
       "        )\n",
       "        (2): ConvBNActivation(\n",
       "          (0): Conv2d(200, 80, kernel_size=(1, 1), stride=(1, 1), bias=False)\n",
       "          (1): BatchNorm2d(80, eps=0.001, momentum=0.01, affine=True, track_running_stats=True)\n",
       "          (2): Identity()\n",
       "        )\n",
       "      )\n",
       "    )\n",
       "    (9): InvertedResidual(\n",
       "      (block): Sequential(\n",
       "        (0): ConvBNActivation(\n",
       "          (0): Conv2d(80, 184, kernel_size=(1, 1), stride=(1, 1), bias=False)\n",
       "          (1): BatchNorm2d(184, eps=0.001, momentum=0.01, affine=True, track_running_stats=True)\n",
       "          (2): Hardswish()\n",
       "        )\n",
       "        (1): ConvBNActivation(\n",
       "          (0): Conv2d(184, 184, kernel_size=(3, 3), stride=(1, 1), padding=(1, 1), groups=184, bias=False)\n",
       "          (1): BatchNorm2d(184, eps=0.001, momentum=0.01, affine=True, track_running_stats=True)\n",
       "          (2): Hardswish()\n",
       "        )\n",
       "        (2): ConvBNActivation(\n",
       "          (0): Conv2d(184, 80, kernel_size=(1, 1), stride=(1, 1), bias=False)\n",
       "          (1): BatchNorm2d(80, eps=0.001, momentum=0.01, affine=True, track_running_stats=True)\n",
       "          (2): Identity()\n",
       "        )\n",
       "      )\n",
       "    )\n",
       "    (10): InvertedResidual(\n",
       "      (block): Sequential(\n",
       "        (0): ConvBNActivation(\n",
       "          (0): Conv2d(80, 184, kernel_size=(1, 1), stride=(1, 1), bias=False)\n",
       "          (1): BatchNorm2d(184, eps=0.001, momentum=0.01, affine=True, track_running_stats=True)\n",
       "          (2): Hardswish()\n",
       "        )\n",
       "        (1): ConvBNActivation(\n",
       "          (0): Conv2d(184, 184, kernel_size=(3, 3), stride=(1, 1), padding=(1, 1), groups=184, bias=False)\n",
       "          (1): BatchNorm2d(184, eps=0.001, momentum=0.01, affine=True, track_running_stats=True)\n",
       "          (2): Hardswish()\n",
       "        )\n",
       "        (2): ConvBNActivation(\n",
       "          (0): Conv2d(184, 80, kernel_size=(1, 1), stride=(1, 1), bias=False)\n",
       "          (1): BatchNorm2d(80, eps=0.001, momentum=0.01, affine=True, track_running_stats=True)\n",
       "          (2): Identity()\n",
       "        )\n",
       "      )\n",
       "    )\n",
       "    (11): InvertedResidual(\n",
       "      (block): Sequential(\n",
       "        (0): ConvBNActivation(\n",
       "          (0): Conv2d(80, 480, kernel_size=(1, 1), stride=(1, 1), bias=False)\n",
       "          (1): BatchNorm2d(480, eps=0.001, momentum=0.01, affine=True, track_running_stats=True)\n",
       "          (2): Hardswish()\n",
       "        )\n",
       "        (1): ConvBNActivation(\n",
       "          (0): Conv2d(480, 480, kernel_size=(3, 3), stride=(1, 1), padding=(1, 1), groups=480, bias=False)\n",
       "          (1): BatchNorm2d(480, eps=0.001, momentum=0.01, affine=True, track_running_stats=True)\n",
       "          (2): Hardswish()\n",
       "        )\n",
       "        (2): SqueezeExcitation(\n",
       "          (fc1): Conv2d(480, 120, kernel_size=(1, 1), stride=(1, 1))\n",
       "          (relu): ReLU(inplace=True)\n",
       "          (fc2): Conv2d(120, 480, kernel_size=(1, 1), stride=(1, 1))\n",
       "        )\n",
       "        (3): ConvBNActivation(\n",
       "          (0): Conv2d(480, 112, kernel_size=(1, 1), stride=(1, 1), bias=False)\n",
       "          (1): BatchNorm2d(112, eps=0.001, momentum=0.01, affine=True, track_running_stats=True)\n",
       "          (2): Identity()\n",
       "        )\n",
       "      )\n",
       "    )\n",
       "    (12): InvertedResidual(\n",
       "      (block): Sequential(\n",
       "        (0): ConvBNActivation(\n",
       "          (0): Conv2d(112, 672, kernel_size=(1, 1), stride=(1, 1), bias=False)\n",
       "          (1): BatchNorm2d(672, eps=0.001, momentum=0.01, affine=True, track_running_stats=True)\n",
       "          (2): Hardswish()\n",
       "        )\n",
       "        (1): ConvBNActivation(\n",
       "          (0): Conv2d(672, 672, kernel_size=(3, 3), stride=(1, 1), padding=(1, 1), groups=672, bias=False)\n",
       "          (1): BatchNorm2d(672, eps=0.001, momentum=0.01, affine=True, track_running_stats=True)\n",
       "          (2): Hardswish()\n",
       "        )\n",
       "        (2): SqueezeExcitation(\n",
       "          (fc1): Conv2d(672, 168, kernel_size=(1, 1), stride=(1, 1))\n",
       "          (relu): ReLU(inplace=True)\n",
       "          (fc2): Conv2d(168, 672, kernel_size=(1, 1), stride=(1, 1))\n",
       "        )\n",
       "        (3): ConvBNActivation(\n",
       "          (0): Conv2d(672, 112, kernel_size=(1, 1), stride=(1, 1), bias=False)\n",
       "          (1): BatchNorm2d(112, eps=0.001, momentum=0.01, affine=True, track_running_stats=True)\n",
       "          (2): Identity()\n",
       "        )\n",
       "      )\n",
       "    )\n",
       "    (13): InvertedResidual(\n",
       "      (block): Sequential(\n",
       "        (0): ConvBNActivation(\n",
       "          (0): Conv2d(112, 672, kernel_size=(1, 1), stride=(1, 1), bias=False)\n",
       "          (1): BatchNorm2d(672, eps=0.001, momentum=0.01, affine=True, track_running_stats=True)\n",
       "          (2): Hardswish()\n",
       "        )\n",
       "        (1): ConvBNActivation(\n",
       "          (0): Conv2d(672, 672, kernel_size=(5, 5), stride=(2, 2), padding=(2, 2), groups=672, bias=False)\n",
       "          (1): BatchNorm2d(672, eps=0.001, momentum=0.01, affine=True, track_running_stats=True)\n",
       "          (2): Hardswish()\n",
       "        )\n",
       "        (2): SqueezeExcitation(\n",
       "          (fc1): Conv2d(672, 168, kernel_size=(1, 1), stride=(1, 1))\n",
       "          (relu): ReLU(inplace=True)\n",
       "          (fc2): Conv2d(168, 672, kernel_size=(1, 1), stride=(1, 1))\n",
       "        )\n",
       "        (3): ConvBNActivation(\n",
       "          (0): Conv2d(672, 160, kernel_size=(1, 1), stride=(1, 1), bias=False)\n",
       "          (1): BatchNorm2d(160, eps=0.001, momentum=0.01, affine=True, track_running_stats=True)\n",
       "          (2): Identity()\n",
       "        )\n",
       "      )\n",
       "    )\n",
       "    (14): InvertedResidual(\n",
       "      (block): Sequential(\n",
       "        (0): ConvBNActivation(\n",
       "          (0): Conv2d(160, 960, kernel_size=(1, 1), stride=(1, 1), bias=False)\n",
       "          (1): BatchNorm2d(960, eps=0.001, momentum=0.01, affine=True, track_running_stats=True)\n",
       "          (2): Hardswish()\n",
       "        )\n",
       "        (1): ConvBNActivation(\n",
       "          (0): Conv2d(960, 960, kernel_size=(5, 5), stride=(1, 1), padding=(2, 2), groups=960, bias=False)\n",
       "          (1): BatchNorm2d(960, eps=0.001, momentum=0.01, affine=True, track_running_stats=True)\n",
       "          (2): Hardswish()\n",
       "        )\n",
       "        (2): SqueezeExcitation(\n",
       "          (fc1): Conv2d(960, 240, kernel_size=(1, 1), stride=(1, 1))\n",
       "          (relu): ReLU(inplace=True)\n",
       "          (fc2): Conv2d(240, 960, kernel_size=(1, 1), stride=(1, 1))\n",
       "        )\n",
       "        (3): ConvBNActivation(\n",
       "          (0): Conv2d(960, 160, kernel_size=(1, 1), stride=(1, 1), bias=False)\n",
       "          (1): BatchNorm2d(160, eps=0.001, momentum=0.01, affine=True, track_running_stats=True)\n",
       "          (2): Identity()\n",
       "        )\n",
       "      )\n",
       "    )\n",
       "    (15): InvertedResidual(\n",
       "      (block): Sequential(\n",
       "        (0): ConvBNActivation(\n",
       "          (0): Conv2d(160, 960, kernel_size=(1, 1), stride=(1, 1), bias=False)\n",
       "          (1): BatchNorm2d(960, eps=0.001, momentum=0.01, affine=True, track_running_stats=True)\n",
       "          (2): Hardswish()\n",
       "        )\n",
       "        (1): ConvBNActivation(\n",
       "          (0): Conv2d(960, 960, kernel_size=(5, 5), stride=(1, 1), padding=(2, 2), groups=960, bias=False)\n",
       "          (1): BatchNorm2d(960, eps=0.001, momentum=0.01, affine=True, track_running_stats=True)\n",
       "          (2): Hardswish()\n",
       "        )\n",
       "        (2): SqueezeExcitation(\n",
       "          (fc1): Conv2d(960, 240, kernel_size=(1, 1), stride=(1, 1))\n",
       "          (relu): ReLU(inplace=True)\n",
       "          (fc2): Conv2d(240, 960, kernel_size=(1, 1), stride=(1, 1))\n",
       "        )\n",
       "        (3): ConvBNActivation(\n",
       "          (0): Conv2d(960, 160, kernel_size=(1, 1), stride=(1, 1), bias=False)\n",
       "          (1): BatchNorm2d(160, eps=0.001, momentum=0.01, affine=True, track_running_stats=True)\n",
       "          (2): Identity()\n",
       "        )\n",
       "      )\n",
       "    )\n",
       "    (16): ConvBNActivation(\n",
       "      (0): Conv2d(160, 960, kernel_size=(1, 1), stride=(1, 1), bias=False)\n",
       "      (1): BatchNorm2d(960, eps=0.001, momentum=0.01, affine=True, track_running_stats=True)\n",
       "      (2): Hardswish()\n",
       "    )\n",
       "  )\n",
       "  (avgpool): AdaptiveAvgPool2d(output_size=1)\n",
       "  (classifier): Sequential(\n",
       "    (0): Linear(in_features=960, out_features=1280, bias=True)\n",
       "    (1): Hardswish()\n",
       "    (2): Dropout(p=0.2, inplace=True)\n",
       "    (3): Linear(in_features=1280, out_features=2, bias=True)\n",
       "  )\n",
       ")"
      ]
     },
     "execution_count": 9,
     "metadata": {},
     "output_type": "execute_result"
    }
   ],
   "source": [
    "# モデルをGPUに送る\n",
    "model.to(device)"
   ]
  },
  {
   "cell_type": "markdown",
   "id": "bf8a4da1",
   "metadata": {
    "papermill": {
     "duration": 0.039752,
     "end_time": "2022-04-16T15:24:41.646681",
     "exception": false,
     "start_time": "2022-04-16T15:24:41.606929",
     "status": "completed"
    },
    "tags": []
   },
   "source": [
    "# transform"
   ]
  },
  {
   "cell_type": "code",
   "execution_count": 10,
   "id": "7d59f3c7",
   "metadata": {
    "execution": {
     "iopub.execute_input": "2022-04-16T15:24:41.729808Z",
     "iopub.status.busy": "2022-04-16T15:24:41.728678Z",
     "iopub.status.idle": "2022-04-16T15:24:41.735063Z",
     "shell.execute_reply": "2022-04-16T15:24:41.734311Z"
    },
    "papermill": {
     "duration": 0.050682,
     "end_time": "2022-04-16T15:24:41.737206",
     "exception": false,
     "start_time": "2022-04-16T15:24:41.686524",
     "status": "completed"
    },
    "tags": []
   },
   "outputs": [],
   "source": [
    "# 両サイドを5%切り取るクラス\n",
    "class SideCrop():\n",
    "    def __call__(self, image):\n",
    "        w, h = image.size\n",
    "        w1 = 0.05 * w\n",
    "        h1 = 0.05 * h\n",
    "        image_crop = image.crop((w1, 0, w-w1, h)) # (left, upper, right, lower)\n",
    "        return image_crop"
   ]
  },
  {
   "cell_type": "code",
   "execution_count": 11,
   "id": "118da6dc",
   "metadata": {
    "execution": {
     "iopub.execute_input": "2022-04-16T15:24:41.822139Z",
     "iopub.status.busy": "2022-04-16T15:24:41.821348Z",
     "iopub.status.idle": "2022-04-16T15:24:41.830024Z",
     "shell.execute_reply": "2022-04-16T15:24:41.829306Z"
    },
    "papermill": {
     "duration": 0.053944,
     "end_time": "2022-04-16T15:24:41.832226",
     "exception": false,
     "start_time": "2022-04-16T15:24:41.778282",
     "status": "completed"
    },
    "tags": []
   },
   "outputs": [],
   "source": [
    "# transformの設定\n",
    "transform = {\n",
    "    'train': transforms.Compose([\n",
    "        SideCrop(),\n",
    "        transforms.Resize((opt.image_size,opt.image_size)),\n",
    "        transforms.RandomHorizontalFlip(p=0.5),\n",
    "        transforms.RandomVerticalFlip(p=0.5),\n",
    "        transforms.RandomAffine(degrees=[-10, 10], translate=(0.1, 0.1), scale=(0.5, 1.5)),\n",
    "        transforms.RandomRotation(degrees=10),\n",
    "        transforms.ToTensor(),\n",
    "        transforms.Normalize([0.485, 0.456, 0.406], [0.229, 0.224, 0.225]),\n",
    "        ]),\n",
    "    'val': transforms.Compose([\n",
    "        SideCrop(),\n",
    "        transforms.Resize((opt.image_size,opt.image_size)),\n",
    "        transforms.ToTensor(),\n",
    "        transforms.Normalize([0.485, 0.456, 0.406], [0.229, 0.224, 0.225]),\n",
    "        ]),\n",
    "}"
   ]
  },
  {
   "cell_type": "code",
   "execution_count": 12,
   "id": "9cdc86ea",
   "metadata": {
    "execution": {
     "iopub.execute_input": "2022-04-16T15:24:41.915209Z",
     "iopub.status.busy": "2022-04-16T15:24:41.914263Z",
     "iopub.status.idle": "2022-04-16T15:24:41.923127Z",
     "shell.execute_reply": "2022-04-16T15:24:41.922126Z"
    },
    "papermill": {
     "duration": 0.053409,
     "end_time": "2022-04-16T15:24:41.925406",
     "exception": false,
     "start_time": "2022-04-16T15:24:41.871997",
     "status": "completed"
    },
    "tags": []
   },
   "outputs": [],
   "source": [
    "# Datasetの設定\n",
    "class XrayDataset(Dataset):\n",
    "    def __init__(self, image_name_list, label_list, img_dir, transform=None, phase=None):\n",
    "        self.image_name_list = image_name_list # 画像ファイル名\n",
    "        self.label_list = label_list # ラベル\n",
    "        self.img_dir = img_dir # 画像データのディレクトリ\n",
    "        self.phase = phase # 変数phaseで学習(train)もしくは検証(val)の設定を行う\n",
    "        self.transform = transform\n",
    "\n",
    "    def __len__(self):\n",
    "        return len(self.image_name_list) # 1エポックあたりに読み込むデータ数として、入力データの数を指定\n",
    "\n",
    "    def __getitem__(self, index):\n",
    "        \n",
    "        # index番目の画像を読み込み、前処理を行う\n",
    "        image_path = os.path.join(self.img_dir, self.image_name_list[index]) # train_master.iloc[index, 0]はファイル名を抽出\n",
    "        img = Image.open(image_path).convert('RGB')\n",
    "        img = self.transform[self.phase](img)\n",
    "        \n",
    "        # index番目のラベルを取得する\n",
    "        label = self.label_list[index]\n",
    "        \n",
    "        return img, label"
   ]
  },
  {
   "cell_type": "markdown",
   "id": "a4432ad8",
   "metadata": {
    "papermill": {
     "duration": 0.040444,
     "end_time": "2022-04-16T15:24:42.006259",
     "exception": false,
     "start_time": "2022-04-16T15:24:41.965815",
     "status": "completed"
    },
    "tags": []
   },
   "source": [
    "# PNEUMONIAのテストデータを推論"
   ]
  },
  {
   "cell_type": "markdown",
   "id": "83f742b1",
   "metadata": {
    "papermill": {
     "duration": 0.039815,
     "end_time": "2022-04-16T15:24:42.087400",
     "exception": false,
     "start_time": "2022-04-16T15:24:42.047585",
     "status": "completed"
    },
    "tags": []
   },
   "source": [
    "## PNEUMONIAのテストデータのデータフレーム化"
   ]
  },
  {
   "cell_type": "code",
   "execution_count": 13,
   "id": "444e646c",
   "metadata": {
    "execution": {
     "iopub.execute_input": "2022-04-16T15:24:42.169801Z",
     "iopub.status.busy": "2022-04-16T15:24:42.169268Z",
     "iopub.status.idle": "2022-04-16T15:24:42.268292Z",
     "shell.execute_reply": "2022-04-16T15:24:42.267588Z"
    },
    "papermill": {
     "duration": 0.143854,
     "end_time": "2022-04-16T15:24:42.271083",
     "exception": false,
     "start_time": "2022-04-16T15:24:42.127229",
     "status": "completed"
    },
    "tags": []
   },
   "outputs": [],
   "source": [
    "# ディレクトリ内の画像リスト作成\n",
    "pneumonia = glob(test_pneumonia_dir+'*.jpeg')"
   ]
  },
  {
   "cell_type": "code",
   "execution_count": 14,
   "id": "f6ccb89a",
   "metadata": {
    "execution": {
     "iopub.execute_input": "2022-04-16T15:24:42.353393Z",
     "iopub.status.busy": "2022-04-16T15:24:42.352738Z",
     "iopub.status.idle": "2022-04-16T15:24:42.359241Z",
     "shell.execute_reply": "2022-04-16T15:24:42.358593Z"
    },
    "papermill": {
     "duration": 0.050591,
     "end_time": "2022-04-16T15:24:42.361536",
     "exception": false,
     "start_time": "2022-04-16T15:24:42.310945",
     "status": "completed"
    },
    "tags": []
   },
   "outputs": [],
   "source": [
    "# テストデータのリストを作成\n",
    "test_file_list = []\n",
    "\n",
    "for path in pneumonia:\n",
    "    file_name = re.split('[////////]', path)[8]\n",
    "    test_file_list.append(file_name)\n",
    "    #print(file_name)"
   ]
  },
  {
   "cell_type": "code",
   "execution_count": 15,
   "id": "66b084ab",
   "metadata": {
    "execution": {
     "iopub.execute_input": "2022-04-16T15:24:42.444089Z",
     "iopub.status.busy": "2022-04-16T15:24:42.443440Z",
     "iopub.status.idle": "2022-04-16T15:24:42.469307Z",
     "shell.execute_reply": "2022-04-16T15:24:42.468308Z"
    },
    "papermill": {
     "duration": 0.070366,
     "end_time": "2022-04-16T15:24:42.471776",
     "exception": false,
     "start_time": "2022-04-16T15:24:42.401410",
     "status": "completed"
    },
    "tags": []
   },
   "outputs": [
    {
     "name": "stdout",
     "output_type": "stream",
     "text": [
      "                            name label  true\n",
      "0     person1676_virus_2892.jpeg  None  None\n",
      "1     person1650_virus_2852.jpeg  None  None\n",
      "2         person22_virus_55.jpeg  None  None\n",
      "3    person122_bacteria_582.jpeg  None  None\n",
      "4     person85_bacteria_417.jpeg  None  None\n",
      "..                           ...   ...   ...\n",
      "385   person1659_virus_2867.jpeg  None  None\n",
      "386   person1615_virus_2801.jpeg  None  None\n",
      "387   person1664_virus_2877.jpeg  None  None\n",
      "388  person111_bacteria_536.jpeg  None  None\n",
      "389  person152_bacteria_724.jpeg  None  None\n",
      "\n",
      "[390 rows x 3 columns]\n",
      "390\n"
     ]
    }
   ],
   "source": [
    "# ファイル名とラベルのデータフレームを作成\n",
    "test_pneumonia_df = pd.DataFrame({'name':test_file_list})\n",
    "test_pneumonia_df['label'] = None\n",
    "test_pneumonia_df['true'] = None\n",
    "\n",
    "print(test_pneumonia_df)\n",
    "print(len(test_pneumonia_df))"
   ]
  },
  {
   "cell_type": "code",
   "execution_count": 16,
   "id": "0fe8548b",
   "metadata": {
    "execution": {
     "iopub.execute_input": "2022-04-16T15:24:42.554515Z",
     "iopub.status.busy": "2022-04-16T15:24:42.553880Z",
     "iopub.status.idle": "2022-04-16T15:24:42.654614Z",
     "shell.execute_reply": "2022-04-16T15:24:42.653599Z"
    },
    "papermill": {
     "duration": 0.145749,
     "end_time": "2022-04-16T15:24:42.657589",
     "exception": false,
     "start_time": "2022-04-16T15:24:42.511840",
     "status": "completed"
    },
    "tags": []
   },
   "outputs": [
    {
     "name": "stdout",
     "output_type": "stream",
     "text": [
      "                            name label  true\n",
      "0     person1676_virus_2892.jpeg  None     0\n",
      "1     person1650_virus_2852.jpeg  None     0\n",
      "2         person22_virus_55.jpeg  None     0\n",
      "3    person122_bacteria_582.jpeg  None     1\n",
      "4     person85_bacteria_417.jpeg  None     1\n",
      "..                           ...   ...   ...\n",
      "385   person1659_virus_2867.jpeg  None     0\n",
      "386   person1615_virus_2801.jpeg  None     0\n",
      "387   person1664_virus_2877.jpeg  None     0\n",
      "388  person111_bacteria_536.jpeg  None     1\n",
      "389  person152_bacteria_724.jpeg  None     1\n",
      "\n",
      "[390 rows x 3 columns]\n",
      "Series([], Name: label, dtype: int64)\n"
     ]
    }
   ],
   "source": [
    "# 正解ラベルの付与\n",
    "for i in range(len(test_pneumonia_df)):\n",
    "    #print(test_pneumonia_df.iloc[i, 0])\n",
    "    if 'virus' in test_pneumonia_df.iloc[i, 0]:\n",
    "        test_pneumonia_df.iloc[i, 2] = 'virus'\n",
    "    \n",
    "    else:\n",
    "        test_pneumonia_df.iloc[i, 2] = 'bacteria'\n",
    "\n",
    "# ラベルの変更\n",
    "test_pneumonia_df['true'] = test_pneumonia_df['true'].map({'virus': 0,\n",
    "                                                           'bacteria': 1,\n",
    "})\n",
    "\n",
    "# データフレームの確認\n",
    "print(test_pneumonia_df)\n",
    "print(test_pneumonia_df['label'].value_counts())"
   ]
  },
  {
   "cell_type": "code",
   "execution_count": 17,
   "id": "8f02b007",
   "metadata": {
    "execution": {
     "iopub.execute_input": "2022-04-16T15:24:42.740897Z",
     "iopub.status.busy": "2022-04-16T15:24:42.740578Z",
     "iopub.status.idle": "2022-04-16T15:24:42.745372Z",
     "shell.execute_reply": "2022-04-16T15:24:42.744467Z"
    },
    "papermill": {
     "duration": 0.049487,
     "end_time": "2022-04-16T15:24:42.747575",
     "exception": false,
     "start_time": "2022-04-16T15:24:42.698088",
     "status": "completed"
    },
    "tags": []
   },
   "outputs": [],
   "source": [
    "# 画像データの名前リストの抽出\n",
    "x_test_pneumonia = test_pneumonia_df['name'].values\n",
    "dummy = test_pneumonia_df['name'].values\n",
    "#print(x_test_pneumonia, f'データ数：{len(x_test_pneumonia)}')"
   ]
  },
  {
   "cell_type": "code",
   "execution_count": 18,
   "id": "08722914",
   "metadata": {
    "execution": {
     "iopub.execute_input": "2022-04-16T15:24:42.833715Z",
     "iopub.status.busy": "2022-04-16T15:24:42.833393Z",
     "iopub.status.idle": "2022-04-16T15:24:42.837544Z",
     "shell.execute_reply": "2022-04-16T15:24:42.836636Z"
    },
    "papermill": {
     "duration": 0.051167,
     "end_time": "2022-04-16T15:24:42.839899",
     "exception": false,
     "start_time": "2022-04-16T15:24:42.788732",
     "status": "completed"
    },
    "tags": []
   },
   "outputs": [],
   "source": [
    "# Datasetのインスタンス作成\n",
    "test_pneumonia_dataset = XrayDataset(x_test_pneumonia, dummy, test_pneumonia_dir, transform=transform, phase='val')"
   ]
  },
  {
   "cell_type": "code",
   "execution_count": 19,
   "id": "d5a7bfdf",
   "metadata": {
    "execution": {
     "iopub.execute_input": "2022-04-16T15:24:42.925539Z",
     "iopub.status.busy": "2022-04-16T15:24:42.925040Z",
     "iopub.status.idle": "2022-04-16T15:24:42.930010Z",
     "shell.execute_reply": "2022-04-16T15:24:42.929045Z"
    },
    "papermill": {
     "duration": 0.050507,
     "end_time": "2022-04-16T15:24:42.932302",
     "exception": false,
     "start_time": "2022-04-16T15:24:42.881795",
     "status": "completed"
    },
    "tags": []
   },
   "outputs": [],
   "source": [
    "# DataLoader\n",
    "test_pneumonia_dataloader = DataLoader(test_pneumonia_dataset, batch_size=1, shuffle=False)"
   ]
  },
  {
   "cell_type": "code",
   "execution_count": 20,
   "id": "551cf470",
   "metadata": {
    "execution": {
     "iopub.execute_input": "2022-04-16T15:24:43.026759Z",
     "iopub.status.busy": "2022-04-16T15:24:43.026128Z",
     "iopub.status.idle": "2022-04-16T15:24:43.115131Z",
     "shell.execute_reply": "2022-04-16T15:24:43.114222Z"
    },
    "papermill": {
     "duration": 0.137191,
     "end_time": "2022-04-16T15:24:43.117588",
     "exception": false,
     "start_time": "2022-04-16T15:24:42.980397",
     "status": "completed"
    },
    "tags": []
   },
   "outputs": [
    {
     "name": "stdout",
     "output_type": "stream",
     "text": [
      "torch.Size([1, 3, 224, 224])\n",
      "('person1676_virus_2892.jpeg',)\n"
     ]
    }
   ],
   "source": [
    "# DataLoaderの確認\n",
    "train_iter = iter(test_pneumonia_dataloader)\n",
    "imgs, labels = train_iter.next()\n",
    "print(imgs.size())\n",
    "print(labels)"
   ]
  },
  {
   "cell_type": "markdown",
   "id": "9cef95a9",
   "metadata": {
    "papermill": {
     "duration": 0.04089,
     "end_time": "2022-04-16T15:24:43.199693",
     "exception": false,
     "start_time": "2022-04-16T15:24:43.158803",
     "status": "completed"
    },
    "tags": []
   },
   "source": [
    "## PNEUMONIAのテストデータの予測"
   ]
  },
  {
   "cell_type": "code",
   "execution_count": 21,
   "id": "9fc4a29a",
   "metadata": {
    "execution": {
     "iopub.execute_input": "2022-04-16T15:24:43.284251Z",
     "iopub.status.busy": "2022-04-16T15:24:43.283595Z",
     "iopub.status.idle": "2022-04-16T15:26:05.900476Z",
     "shell.execute_reply": "2022-04-16T15:26:05.899653Z"
    },
    "papermill": {
     "duration": 82.66272,
     "end_time": "2022-04-16T15:26:05.903463",
     "exception": false,
     "start_time": "2022-04-16T15:24:43.240743",
     "status": "completed"
    },
    "tags": []
   },
   "outputs": [],
   "source": [
    "# 予測データフレームの作成\n",
    "pneumonia_preds = []\n",
    "\n",
    "# dataloaderから、ミニバッチ単位でデータを読み込む\n",
    "for images, _ in test_pneumonia_dataloader:\n",
    "    \n",
    "    # 入力データをdeviceへ\n",
    "    images = images.to(device)\n",
    "    \n",
    "    # 学習済みモデルを推論モードに設定\n",
    "    model.eval()\n",
    "    \n",
    "    # モデルによる変換\n",
    "    outputs = model(images)\n",
    "    pred = torch.argmax(outputs, dim=1)\n",
    "    pred = pred.to('cpu').numpy()\n",
    "\n",
    "    # 予測値をリストに追加\n",
    "    pneumonia_preds.extend(pred)"
   ]
  },
  {
   "cell_type": "code",
   "execution_count": 22,
   "id": "48803fd2",
   "metadata": {
    "execution": {
     "iopub.execute_input": "2022-04-16T15:26:05.991340Z",
     "iopub.status.busy": "2022-04-16T15:26:05.990102Z",
     "iopub.status.idle": "2022-04-16T15:26:05.999547Z",
     "shell.execute_reply": "2022-04-16T15:26:05.998486Z"
    },
    "papermill": {
     "duration": 0.054863,
     "end_time": "2022-04-16T15:26:06.001889",
     "exception": false,
     "start_time": "2022-04-16T15:26:05.947026",
     "status": "completed"
    },
    "tags": []
   },
   "outputs": [
    {
     "name": "stdout",
     "output_type": "stream",
     "text": [
      "                          name  label  true\n",
      "0   person1676_virus_2892.jpeg      0     0\n",
      "1   person1650_virus_2852.jpeg      1     0\n",
      "2       person22_virus_55.jpeg      0     0\n",
      "3  person122_bacteria_582.jpeg      1     1\n",
      "4   person85_bacteria_417.jpeg      1     1\n"
     ]
    }
   ],
   "source": [
    "# 目的変数カラムの置き換え\n",
    "test_pneumonia_df['label'] = pneumonia_preds\n",
    "print(test_pneumonia_df.head())"
   ]
  },
  {
   "cell_type": "markdown",
   "id": "9c10f423",
   "metadata": {
    "papermill": {
     "duration": 0.04262,
     "end_time": "2022-04-16T15:26:06.088816",
     "exception": false,
     "start_time": "2022-04-16T15:26:06.046196",
     "status": "completed"
    },
    "tags": []
   },
   "source": [
    "# 混同行列"
   ]
  },
  {
   "cell_type": "code",
   "execution_count": 23,
   "id": "d0f46716",
   "metadata": {
    "execution": {
     "iopub.execute_input": "2022-04-16T15:26:06.174956Z",
     "iopub.status.busy": "2022-04-16T15:26:06.173735Z",
     "iopub.status.idle": "2022-04-16T15:26:06.329659Z",
     "shell.execute_reply": "2022-04-16T15:26:06.328686Z"
    },
    "papermill": {
     "duration": 0.203595,
     "end_time": "2022-04-16T15:26:06.334304",
     "exception": false,
     "start_time": "2022-04-16T15:26:06.130709",
     "status": "completed"
    },
    "tags": []
   },
   "outputs": [
    {
     "data": {
      "image/png": "[encoded data removed]",
      "text/plain": [
       "<Figure size 432x288 with 1 Axes>"
      ]
     },
     "metadata": {
      "needs_background": "light"
     },
     "output_type": "display_data"
    }
   ],
   "source": [
    "# 混同行列の作成と可視化\n",
    "cm = confusion_matrix(test_pneumonia_df['true'], test_pneumonia_df['label'])\n",
    "\n",
    "sns.heatmap(cm, \n",
    "            annot=True, # 数字を表示\n",
    "            fmt='d', # 整数表示\n",
    "            cmap='Blues',\n",
    "            cbar=False # カラーバーを非表示\n",
    ")\n",
    "plt.show()"
   ]
  },
  {
   "cell_type": "markdown",
   "id": "e852ed6b",
   "metadata": {
    "papermill": {
     "duration": 0.046818,
     "end_time": "2022-04-16T15:26:06.429573",
     "exception": false,
     "start_time": "2022-04-16T15:26:06.382755",
     "status": "completed"
    },
    "tags": []
   },
   "source": [
    "# Accuracy"
   ]
  },
  {
   "cell_type": "code",
   "execution_count": 24,
   "id": "58fee048",
   "metadata": {
    "execution": {
     "iopub.execute_input": "2022-04-16T15:26:06.527031Z",
     "iopub.status.busy": "2022-04-16T15:26:06.526584Z",
     "iopub.status.idle": "2022-04-16T15:26:06.533557Z",
     "shell.execute_reply": "2022-04-16T15:26:06.532370Z"
    },
    "papermill": {
     "duration": 0.059288,
     "end_time": "2022-04-16T15:26:06.535841",
     "exception": false,
     "start_time": "2022-04-16T15:26:06.476553",
     "status": "completed"
    },
    "tags": []
   },
   "outputs": [
    {
     "name": "stdout",
     "output_type": "stream",
     "text": [
      "0.8974358974358975\n"
     ]
    }
   ],
   "source": [
    "print(accuracy_score(test_pneumonia_df['true'], test_pneumonia_df['label']))"
   ]
  },
  {
   "cell_type": "markdown",
   "id": "47107391",
   "metadata": {
    "papermill": {
     "duration": 0.046981,
     "end_time": "2022-04-16T15:26:06.630702",
     "exception": false,
     "start_time": "2022-04-16T15:26:06.583721",
     "status": "completed"
    },
    "tags": []
   },
   "source": [
    "# Sensitivity"
   ]
  },
  {
   "cell_type": "code",
   "execution_count": 25,
   "id": "18dddd84",
   "metadata": {
    "execution": {
     "iopub.execute_input": "2022-04-16T15:26:06.740246Z",
     "iopub.status.busy": "2022-04-16T15:26:06.739661Z",
     "iopub.status.idle": "2022-04-16T15:26:06.747680Z",
     "shell.execute_reply": "2022-04-16T15:26:06.746279Z"
    },
    "papermill": {
     "duration": 0.065614,
     "end_time": "2022-04-16T15:26:06.749907",
     "exception": false,
     "start_time": "2022-04-16T15:26:06.684293",
     "status": "completed"
    },
    "tags": []
   },
   "outputs": [
    {
     "name": "stdout",
     "output_type": "stream",
     "text": [
      "0.9793388429752066\n"
     ]
    }
   ],
   "source": [
    "print(recall_score(test_pneumonia_df['true'], test_pneumonia_df['label']))"
   ]
  },
  {
   "cell_type": "markdown",
   "id": "fbc1391f",
   "metadata": {
    "papermill": {
     "duration": 0.046311,
     "end_time": "2022-04-16T15:26:06.843370",
     "exception": false,
     "start_time": "2022-04-16T15:26:06.797059",
     "status": "completed"
    },
    "tags": []
   },
   "source": [
    "# 特異度"
   ]
  },
  {
   "cell_type": "code",
   "execution_count": 26,
   "id": "164aa083",
   "metadata": {
    "execution": {
     "iopub.execute_input": "2022-04-16T15:26:06.941756Z",
     "iopub.status.busy": "2022-04-16T15:26:06.941407Z",
     "iopub.status.idle": "2022-04-16T15:26:06.946574Z",
     "shell.execute_reply": "2022-04-16T15:26:06.946000Z"
    },
    "papermill": {
     "duration": 0.056488,
     "end_time": "2022-04-16T15:26:06.948566",
     "exception": false,
     "start_time": "2022-04-16T15:26:06.892078",
     "status": "completed"
    },
    "tags": []
   },
   "outputs": [],
   "source": [
    "tn, fp, fn, tp = confusion_matrix(test_pneumonia_df['true'], test_pneumonia_df['label']).ravel()"
   ]
  },
  {
   "cell_type": "code",
   "execution_count": 27,
   "id": "eeb1bb67",
   "metadata": {
    "execution": {
     "iopub.execute_input": "2022-04-16T15:26:07.050987Z",
     "iopub.status.busy": "2022-04-16T15:26:07.050300Z",
     "iopub.status.idle": "2022-04-16T15:26:07.056875Z",
     "shell.execute_reply": "2022-04-16T15:26:07.056037Z"
    },
    "papermill": {
     "duration": 0.061255,
     "end_time": "2022-04-16T15:26:07.059245",
     "exception": false,
     "start_time": "2022-04-16T15:26:06.997990",
     "status": "completed"
    },
    "tags": []
   },
   "outputs": [
    {
     "name": "stdout",
     "output_type": "stream",
     "text": [
      "0.7635135135135135\n"
     ]
    }
   ],
   "source": [
    "print(tn / (tn + fp))"
   ]
  },
  {
   "cell_type": "markdown",
   "id": "58939915",
   "metadata": {
    "papermill": {
     "duration": 0.044679,
     "end_time": "2022-04-16T15:26:07.148198",
     "exception": false,
     "start_time": "2022-04-16T15:26:07.103519",
     "status": "completed"
    },
    "tags": []
   },
   "source": [
    "# F1値"
   ]
  },
  {
   "cell_type": "code",
   "execution_count": 28,
   "id": "eab2442a",
   "metadata": {
    "execution": {
     "iopub.execute_input": "2022-04-16T15:26:07.249473Z",
     "iopub.status.busy": "2022-04-16T15:26:07.249105Z",
     "iopub.status.idle": "2022-04-16T15:26:07.258047Z",
     "shell.execute_reply": "2022-04-16T15:26:07.257050Z"
    },
    "papermill": {
     "duration": 0.066639,
     "end_time": "2022-04-16T15:26:07.260179",
     "exception": false,
     "start_time": "2022-04-16T15:26:07.193540",
     "status": "completed"
    },
    "tags": []
   },
   "outputs": [
    {
     "name": "stdout",
     "output_type": "stream",
     "text": [
      "0.9221789883268482\n"
     ]
    }
   ],
   "source": [
    "print(f1_score(test_pneumonia_df['true'], test_pneumonia_df['label']))"
   ]
  },
  {
   "cell_type": "markdown",
   "id": "7e57a27d",
   "metadata": {
    "papermill": {
     "duration": 0.0471,
     "end_time": "2022-04-16T15:26:07.356112",
     "exception": false,
     "start_time": "2022-04-16T15:26:07.309012",
     "status": "completed"
    },
    "tags": []
   },
   "source": [
    "# 予測データフレームの結合・出力"
   ]
  },
  {
   "cell_type": "code",
   "execution_count": 29,
   "id": "c7fe20a8",
   "metadata": {
    "execution": {
     "iopub.execute_input": "2022-04-16T15:26:07.450129Z",
     "iopub.status.busy": "2022-04-16T15:26:07.449486Z",
     "iopub.status.idle": "2022-04-16T15:26:07.464883Z",
     "shell.execute_reply": "2022-04-16T15:26:07.463715Z"
    },
    "papermill": {
     "duration": 0.064003,
     "end_time": "2022-04-16T15:26:07.466962",
     "exception": false,
     "start_time": "2022-04-16T15:26:07.402959",
     "status": "completed"
    },
    "tags": []
   },
   "outputs": [
    {
     "name": "stdout",
     "output_type": "stream",
     "text": [
      "                            name     label      true\n",
      "0     person1676_virus_2892.jpeg     virus     virus\n",
      "1     person1650_virus_2852.jpeg  bacteria     virus\n",
      "2         person22_virus_55.jpeg     virus     virus\n",
      "3    person122_bacteria_582.jpeg  bacteria  bacteria\n",
      "4     person85_bacteria_417.jpeg  bacteria  bacteria\n",
      "..                           ...       ...       ...\n",
      "385   person1659_virus_2867.jpeg     virus     virus\n",
      "386   person1615_virus_2801.jpeg     virus     virus\n",
      "387   person1664_virus_2877.jpeg     virus     virus\n",
      "388  person111_bacteria_536.jpeg  bacteria  bacteria\n",
      "389  person152_bacteria_724.jpeg  bacteria  bacteria\n",
      "\n",
      "[390 rows x 3 columns]\n"
     ]
    }
   ],
   "source": [
    "test_pneumonia_df['label'] = test_pneumonia_df['label'].map({0: 'virus',\n",
    "                                                             1: 'bacteria'})\n",
    "test_pneumonia_df['true'] = test_pneumonia_df['true'].map({0: 'virus',\n",
    "                                                           1: 'bacteria'})\n",
    "print(test_pneumonia_df)"
   ]
  },
  {
   "cell_type": "code",
   "execution_count": 30,
   "id": "ec515fda",
   "metadata": {
    "execution": {
     "iopub.execute_input": "2022-04-16T15:26:07.571261Z",
     "iopub.status.busy": "2022-04-16T15:26:07.570721Z",
     "iopub.status.idle": "2022-04-16T15:26:07.581338Z",
     "shell.execute_reply": "2022-04-16T15:26:07.580496Z"
    },
    "papermill": {
     "duration": 0.068785,
     "end_time": "2022-04-16T15:26:07.583701",
     "exception": false,
     "start_time": "2022-04-16T15:26:07.514916",
     "status": "completed"
    },
    "tags": []
   },
   "outputs": [],
   "source": [
    "# データフレームの出力\n",
    "test_pneumonia_df.to_csv('/kaggle/working/submission.csv', index = False)"
   ]
  }
 ],
 "metadata": {
  "kernelspec": {
   "display_name": "Python 3",
   "language": "python",
   "name": "python3"
  },
  "language_info": {
   "codemirror_mode": {
    "name": "ipython",
    "version": 3
   },
   "file_extension": ".py",
   "mimetype": "text/x-python",
   "name": "python",
   "nbconvert_exporter": "python",
   "pygments_lexer": "ipython3",
   "version": "3.7.12"
  },
  "papermill": {
   "default_parameters": {},
   "duration": 102.687997,
   "end_time": "2022-04-16T15:26:08.653483",
   "environment_variables": {},
   "exception": null,
   "input_path": "__notebook__.ipynb",
   "output_path": "__notebook__.ipynb",
   "parameters": {},
   "start_time": "2022-04-16T15:24:25.965486",
   "version": "2.3.4"
  }
 },
 "nbformat": 4,
 "nbformat_minor": 5
}
